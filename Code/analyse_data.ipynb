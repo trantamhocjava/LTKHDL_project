{
 "cells": [
  {
   "cell_type": "markdown",
   "metadata": {},
   "source": [
    "# Import thư viện\n"
   ]
  },
  {
   "cell_type": "code",
   "execution_count": 1,
   "metadata": {},
   "outputs": [],
   "source": [
    "import pandas as pd\n",
    "import matplotlib.pyplot as plt\n",
    "import numpy as np\n",
    "import seaborn as sns\n",
    "from scipy import stats\n",
    "from matplotlib import ticker\n",
    "import warnings\n",
    "\n",
    "warnings.filterwarnings(\"ignore\")\n"
   ]
  },
  {
   "cell_type": "markdown",
   "metadata": {},
   "source": [
    "# Phân tích dữ liệu của khách sạn `Resort Hotel`\n"
   ]
  },
  {
   "cell_type": "markdown",
   "metadata": {},
   "source": [
    "## Đọc dữ liệu\n"
   ]
  },
  {
   "cell_type": "code",
   "execution_count": 2,
   "metadata": {},
   "outputs": [
    {
     "data": {
      "text/html": [
       "<div>\n",
       "<style scoped>\n",
       "    .dataframe tbody tr th:only-of-type {\n",
       "        vertical-align: middle;\n",
       "    }\n",
       "\n",
       "    .dataframe tbody tr th {\n",
       "        vertical-align: top;\n",
       "    }\n",
       "\n",
       "    .dataframe thead th {\n",
       "        text-align: right;\n",
       "    }\n",
       "</style>\n",
       "<table border=\"1\" class=\"dataframe\">\n",
       "  <thead>\n",
       "    <tr style=\"text-align: right;\">\n",
       "      <th></th>\n",
       "      <th>arrival_date</th>\n",
       "      <th>reservation_status_date</th>\n",
       "      <th>hotel</th>\n",
       "      <th>meal</th>\n",
       "      <th>country</th>\n",
       "      <th>market_segment</th>\n",
       "      <th>distribution_channel</th>\n",
       "      <th>reserved_room_type</th>\n",
       "      <th>assigned_room_type</th>\n",
       "      <th>deposit_type</th>\n",
       "      <th>...</th>\n",
       "      <th>babies</th>\n",
       "      <th>previous_cancellations</th>\n",
       "      <th>previous_bookings_not_canceled</th>\n",
       "      <th>booking_changes</th>\n",
       "      <th>days_in_waiting_list</th>\n",
       "      <th>adr</th>\n",
       "      <th>required_car_parking_spaces</th>\n",
       "      <th>total_of_special_requests</th>\n",
       "      <th>continent</th>\n",
       "      <th>revenue</th>\n",
       "    </tr>\n",
       "  </thead>\n",
       "  <tbody>\n",
       "    <tr>\n",
       "      <th>0</th>\n",
       "      <td>2015-07-01</td>\n",
       "      <td>2015-07-01</td>\n",
       "      <td>Resort Hotel</td>\n",
       "      <td>BB</td>\n",
       "      <td>PRT</td>\n",
       "      <td>Direct</td>\n",
       "      <td>Direct</td>\n",
       "      <td>C</td>\n",
       "      <td>C</td>\n",
       "      <td>No Deposit</td>\n",
       "      <td>...</td>\n",
       "      <td>0</td>\n",
       "      <td>0</td>\n",
       "      <td>0</td>\n",
       "      <td>3</td>\n",
       "      <td>0</td>\n",
       "      <td>0.00</td>\n",
       "      <td>0</td>\n",
       "      <td>0</td>\n",
       "      <td>Europe</td>\n",
       "      <td>0.00</td>\n",
       "    </tr>\n",
       "    <tr>\n",
       "      <th>1</th>\n",
       "      <td>2015-07-01</td>\n",
       "      <td>2015-07-01</td>\n",
       "      <td>Resort Hotel</td>\n",
       "      <td>BB</td>\n",
       "      <td>PRT</td>\n",
       "      <td>Direct</td>\n",
       "      <td>Direct</td>\n",
       "      <td>C</td>\n",
       "      <td>C</td>\n",
       "      <td>No Deposit</td>\n",
       "      <td>...</td>\n",
       "      <td>0</td>\n",
       "      <td>0</td>\n",
       "      <td>0</td>\n",
       "      <td>4</td>\n",
       "      <td>0</td>\n",
       "      <td>0.00</td>\n",
       "      <td>0</td>\n",
       "      <td>0</td>\n",
       "      <td>Europe</td>\n",
       "      <td>0.00</td>\n",
       "    </tr>\n",
       "    <tr>\n",
       "      <th>2</th>\n",
       "      <td>2015-07-01</td>\n",
       "      <td>2015-07-02</td>\n",
       "      <td>Resort Hotel</td>\n",
       "      <td>BB</td>\n",
       "      <td>GBR</td>\n",
       "      <td>Direct</td>\n",
       "      <td>Direct</td>\n",
       "      <td>A</td>\n",
       "      <td>C</td>\n",
       "      <td>No Deposit</td>\n",
       "      <td>...</td>\n",
       "      <td>0</td>\n",
       "      <td>0</td>\n",
       "      <td>0</td>\n",
       "      <td>0</td>\n",
       "      <td>0</td>\n",
       "      <td>75.00</td>\n",
       "      <td>0</td>\n",
       "      <td>0</td>\n",
       "      <td>Europe</td>\n",
       "      <td>75.00</td>\n",
       "    </tr>\n",
       "    <tr>\n",
       "      <th>3</th>\n",
       "      <td>2015-07-01</td>\n",
       "      <td>2015-07-02</td>\n",
       "      <td>Resort Hotel</td>\n",
       "      <td>BB</td>\n",
       "      <td>GBR</td>\n",
       "      <td>Corporate</td>\n",
       "      <td>Corporate</td>\n",
       "      <td>A</td>\n",
       "      <td>A</td>\n",
       "      <td>No Deposit</td>\n",
       "      <td>...</td>\n",
       "      <td>0</td>\n",
       "      <td>0</td>\n",
       "      <td>0</td>\n",
       "      <td>0</td>\n",
       "      <td>0</td>\n",
       "      <td>75.00</td>\n",
       "      <td>0</td>\n",
       "      <td>0</td>\n",
       "      <td>Europe</td>\n",
       "      <td>75.00</td>\n",
       "    </tr>\n",
       "    <tr>\n",
       "      <th>4</th>\n",
       "      <td>2015-07-01</td>\n",
       "      <td>2015-07-03</td>\n",
       "      <td>Resort Hotel</td>\n",
       "      <td>BB</td>\n",
       "      <td>GBR</td>\n",
       "      <td>Online TA</td>\n",
       "      <td>TA/TO</td>\n",
       "      <td>A</td>\n",
       "      <td>A</td>\n",
       "      <td>No Deposit</td>\n",
       "      <td>...</td>\n",
       "      <td>0</td>\n",
       "      <td>0</td>\n",
       "      <td>0</td>\n",
       "      <td>0</td>\n",
       "      <td>0</td>\n",
       "      <td>98.00</td>\n",
       "      <td>0</td>\n",
       "      <td>1</td>\n",
       "      <td>Europe</td>\n",
       "      <td>196.00</td>\n",
       "    </tr>\n",
       "    <tr>\n",
       "      <th>...</th>\n",
       "      <td>...</td>\n",
       "      <td>...</td>\n",
       "      <td>...</td>\n",
       "      <td>...</td>\n",
       "      <td>...</td>\n",
       "      <td>...</td>\n",
       "      <td>...</td>\n",
       "      <td>...</td>\n",
       "      <td>...</td>\n",
       "      <td>...</td>\n",
       "      <td>...</td>\n",
       "      <td>...</td>\n",
       "      <td>...</td>\n",
       "      <td>...</td>\n",
       "      <td>...</td>\n",
       "      <td>...</td>\n",
       "      <td>...</td>\n",
       "      <td>...</td>\n",
       "      <td>...</td>\n",
       "      <td>...</td>\n",
       "      <td>...</td>\n",
       "    </tr>\n",
       "    <tr>\n",
       "      <th>33950</th>\n",
       "      <td>2017-08-31</td>\n",
       "      <td>2017-09-10</td>\n",
       "      <td>Resort Hotel</td>\n",
       "      <td>BB</td>\n",
       "      <td>GBR</td>\n",
       "      <td>Offline TA/TO</td>\n",
       "      <td>TA/TO</td>\n",
       "      <td>A</td>\n",
       "      <td>A</td>\n",
       "      <td>No Deposit</td>\n",
       "      <td>...</td>\n",
       "      <td>0</td>\n",
       "      <td>0</td>\n",
       "      <td>0</td>\n",
       "      <td>1</td>\n",
       "      <td>0</td>\n",
       "      <td>89.75</td>\n",
       "      <td>0</td>\n",
       "      <td>0</td>\n",
       "      <td>Europe</td>\n",
       "      <td>897.50</td>\n",
       "    </tr>\n",
       "    <tr>\n",
       "      <th>33951</th>\n",
       "      <td>2017-08-30</td>\n",
       "      <td>2017-09-10</td>\n",
       "      <td>Resort Hotel</td>\n",
       "      <td>BB</td>\n",
       "      <td>IRL</td>\n",
       "      <td>Direct</td>\n",
       "      <td>Direct</td>\n",
       "      <td>E</td>\n",
       "      <td>E</td>\n",
       "      <td>No Deposit</td>\n",
       "      <td>...</td>\n",
       "      <td>0</td>\n",
       "      <td>0</td>\n",
       "      <td>0</td>\n",
       "      <td>0</td>\n",
       "      <td>0</td>\n",
       "      <td>202.27</td>\n",
       "      <td>0</td>\n",
       "      <td>1</td>\n",
       "      <td>Europe</td>\n",
       "      <td>2224.97</td>\n",
       "    </tr>\n",
       "    <tr>\n",
       "      <th>33952</th>\n",
       "      <td>2017-08-29</td>\n",
       "      <td>2017-09-12</td>\n",
       "      <td>Resort Hotel</td>\n",
       "      <td>BB</td>\n",
       "      <td>IRL</td>\n",
       "      <td>Direct</td>\n",
       "      <td>Direct</td>\n",
       "      <td>E</td>\n",
       "      <td>E</td>\n",
       "      <td>No Deposit</td>\n",
       "      <td>...</td>\n",
       "      <td>0</td>\n",
       "      <td>0</td>\n",
       "      <td>0</td>\n",
       "      <td>0</td>\n",
       "      <td>0</td>\n",
       "      <td>153.57</td>\n",
       "      <td>0</td>\n",
       "      <td>3</td>\n",
       "      <td>Europe</td>\n",
       "      <td>2149.98</td>\n",
       "    </tr>\n",
       "    <tr>\n",
       "      <th>33953</th>\n",
       "      <td>2017-08-31</td>\n",
       "      <td>2017-09-14</td>\n",
       "      <td>Resort Hotel</td>\n",
       "      <td>HB</td>\n",
       "      <td>GBR</td>\n",
       "      <td>Offline TA/TO</td>\n",
       "      <td>TA/TO</td>\n",
       "      <td>D</td>\n",
       "      <td>D</td>\n",
       "      <td>No Deposit</td>\n",
       "      <td>...</td>\n",
       "      <td>0</td>\n",
       "      <td>0</td>\n",
       "      <td>0</td>\n",
       "      <td>0</td>\n",
       "      <td>0</td>\n",
       "      <td>112.80</td>\n",
       "      <td>0</td>\n",
       "      <td>1</td>\n",
       "      <td>Europe</td>\n",
       "      <td>1579.20</td>\n",
       "    </tr>\n",
       "    <tr>\n",
       "      <th>33954</th>\n",
       "      <td>2017-08-31</td>\n",
       "      <td>2017-09-14</td>\n",
       "      <td>Resort Hotel</td>\n",
       "      <td>HB</td>\n",
       "      <td>DEU</td>\n",
       "      <td>Offline TA/TO</td>\n",
       "      <td>TA/TO</td>\n",
       "      <td>A</td>\n",
       "      <td>A</td>\n",
       "      <td>No Deposit</td>\n",
       "      <td>...</td>\n",
       "      <td>0</td>\n",
       "      <td>0</td>\n",
       "      <td>0</td>\n",
       "      <td>0</td>\n",
       "      <td>0</td>\n",
       "      <td>99.06</td>\n",
       "      <td>0</td>\n",
       "      <td>0</td>\n",
       "      <td>Europe</td>\n",
       "      <td>1386.84</td>\n",
       "    </tr>\n",
       "  </tbody>\n",
       "</table>\n",
       "<p>33955 rows × 29 columns</p>\n",
       "</div>"
      ],
      "text/plain": [
       "      arrival_date reservation_status_date         hotel meal country  \\\n",
       "0       2015-07-01              2015-07-01  Resort Hotel   BB     PRT   \n",
       "1       2015-07-01              2015-07-01  Resort Hotel   BB     PRT   \n",
       "2       2015-07-01              2015-07-02  Resort Hotel   BB     GBR   \n",
       "3       2015-07-01              2015-07-02  Resort Hotel   BB     GBR   \n",
       "4       2015-07-01              2015-07-03  Resort Hotel   BB     GBR   \n",
       "...            ...                     ...           ...  ...     ...   \n",
       "33950   2017-08-31              2017-09-10  Resort Hotel   BB     GBR   \n",
       "33951   2017-08-30              2017-09-10  Resort Hotel   BB     IRL   \n",
       "33952   2017-08-29              2017-09-12  Resort Hotel   BB     IRL   \n",
       "33953   2017-08-31              2017-09-14  Resort Hotel   HB     GBR   \n",
       "33954   2017-08-31              2017-09-14  Resort Hotel   HB     DEU   \n",
       "\n",
       "      market_segment distribution_channel reserved_room_type  \\\n",
       "0             Direct               Direct                  C   \n",
       "1             Direct               Direct                  C   \n",
       "2             Direct               Direct                  A   \n",
       "3          Corporate            Corporate                  A   \n",
       "4          Online TA                TA/TO                  A   \n",
       "...              ...                  ...                ...   \n",
       "33950  Offline TA/TO                TA/TO                  A   \n",
       "33951         Direct               Direct                  E   \n",
       "33952         Direct               Direct                  E   \n",
       "33953  Offline TA/TO                TA/TO                  D   \n",
       "33954  Offline TA/TO                TA/TO                  A   \n",
       "\n",
       "      assigned_room_type deposit_type  ... babies previous_cancellations  \\\n",
       "0                      C   No Deposit  ...      0                      0   \n",
       "1                      C   No Deposit  ...      0                      0   \n",
       "2                      C   No Deposit  ...      0                      0   \n",
       "3                      A   No Deposit  ...      0                      0   \n",
       "4                      A   No Deposit  ...      0                      0   \n",
       "...                  ...          ...  ...    ...                    ...   \n",
       "33950                  A   No Deposit  ...      0                      0   \n",
       "33951                  E   No Deposit  ...      0                      0   \n",
       "33952                  E   No Deposit  ...      0                      0   \n",
       "33953                  D   No Deposit  ...      0                      0   \n",
       "33954                  A   No Deposit  ...      0                      0   \n",
       "\n",
       "       previous_bookings_not_canceled  booking_changes  days_in_waiting_list  \\\n",
       "0                                   0                3                     0   \n",
       "1                                   0                4                     0   \n",
       "2                                   0                0                     0   \n",
       "3                                   0                0                     0   \n",
       "4                                   0                0                     0   \n",
       "...                               ...              ...                   ...   \n",
       "33950                               0                1                     0   \n",
       "33951                               0                0                     0   \n",
       "33952                               0                0                     0   \n",
       "33953                               0                0                     0   \n",
       "33954                               0                0                     0   \n",
       "\n",
       "          adr  required_car_parking_spaces  total_of_special_requests  \\\n",
       "0        0.00                            0                          0   \n",
       "1        0.00                            0                          0   \n",
       "2       75.00                            0                          0   \n",
       "3       75.00                            0                          0   \n",
       "4       98.00                            0                          1   \n",
       "...       ...                          ...                        ...   \n",
       "33950   89.75                            0                          0   \n",
       "33951  202.27                            0                          1   \n",
       "33952  153.57                            0                          3   \n",
       "33953  112.80                            0                          1   \n",
       "33954   99.06                            0                          0   \n",
       "\n",
       "       continent  revenue  \n",
       "0         Europe     0.00  \n",
       "1         Europe     0.00  \n",
       "2         Europe    75.00  \n",
       "3         Europe    75.00  \n",
       "4         Europe   196.00  \n",
       "...          ...      ...  \n",
       "33950     Europe   897.50  \n",
       "33951     Europe  2224.97  \n",
       "33952     Europe  2149.98  \n",
       "33953     Europe  1579.20  \n",
       "33954     Europe  1386.84  \n",
       "\n",
       "[33955 rows x 29 columns]"
      ]
     },
     "execution_count": 2,
     "metadata": {},
     "output_type": "execute_result"
    }
   ],
   "source": [
    "df = pd.read_csv(\"../Data/Created Data/hotel_bookings_added_revenue_resort.csv\")\n",
    "df\n"
   ]
  },
  {
   "cell_type": "markdown",
   "metadata": {},
   "source": [
    "## Chuyển 2 cột date thành kiểu datetime trước rồi tiếp tục làm việc\n"
   ]
  },
  {
   "cell_type": "code",
   "execution_count": 3,
   "metadata": {},
   "outputs": [],
   "source": [
    "def change_df(df):\n",
    "    format_year = \"%Y-%m-%d\"\n",
    "\n",
    "    df[\"arrival_date\"] = pd.to_datetime(df[\"arrival_date\"], format=format_year)\n",
    "    df[\"reservation_status_date\"] = pd.to_datetime(\n",
    "        df[\"reservation_status_date\"], format=format_year\n",
    "    )\n",
    "\n",
    "\n",
    "change_df(df)\n"
   ]
  },
  {
   "cell_type": "markdown",
   "metadata": {},
   "source": [
    "## I) TỔNG QUAN VỀ TÌNH HÌNH ĐẶT PHÒNG KHÁCH SẠN LOẠI \"CITY\"\n"
   ]
  },
  {
   "cell_type": "markdown",
   "metadata": {},
   "source": [
    "### 1. Tỷ lệ đặt phòng chia theo khách nội địa và quốc tế\n"
   ]
  },
  {
   "cell_type": "code",
   "execution_count": 4,
   "metadata": {},
   "outputs": [
    {
     "data": {
      "text/plain": [
       "(42.46023456384852, 57.53976543615148)"
      ]
     },
     "execution_count": 4,
     "metadata": {},
     "output_type": "execute_result"
    }
   ],
   "source": [
    "hotel_data = df[df[\"country\"] != \"undefined\"]\n",
    "city_hotel_data = hotel_data\n",
    "\n",
    "internal_customers = city_hotel_data[city_hotel_data[\"country\"] == \"PRT\"]\n",
    "foreign_customers = city_hotel_data[city_hotel_data[\"country\"] != \"PRT\"]\n",
    "\n",
    "total_customers = len(city_hotel_data)\n",
    "internal_percentage = len(internal_customers) / total_customers * 100\n",
    "foreign_percentage = len(foreign_customers) / total_customers * 100\n",
    "\n",
    "internal_percentage, foreign_percentage\n"
   ]
  },
  {
   "cell_type": "code",
   "execution_count": 5,
   "metadata": {},
   "outputs": [
    {
     "data": {
      "image/png": "[encoded data removed]",
      "text/plain": [
       "<Figure size 1000x600 with 1 Axes>"
      ]
     },
     "metadata": {},
     "output_type": "display_data"
    }
   ],
   "source": [
    "plt.figure(figsize=(10, 6))\n",
    "plt.pie(\n",
    "    [internal_percentage, foreign_percentage],\n",
    "    labels=[\"Khách trong nước (Bồ Đào Nha)\", \"Khách nước ngoài\"],\n",
    "    autopct=\"%1.1f%%\",\n",
    "    startangle=90,\n",
    ")\n",
    "plt.title(\"Tỉ lệ khách hàng trong nước và nước ngoài đặt khách sạn tại thành phố\")\n",
    "plt.show()\n"
   ]
  },
  {
   "cell_type": "markdown",
   "metadata": {},
   "source": [
    "**Nhận xét**:\n",
    "Cân bằng giữa hai loại khách => xu hướng cả 2 loại khách đều thích Resort....\n",
    "-:\n",
    "...\n"
   ]
  },
  {
   "cell_type": "markdown",
   "metadata": {},
   "source": [
    "### 2. Tỷ lệ khách quốc tế đặt phòng\n"
   ]
  },
  {
   "cell_type": "code",
   "execution_count": 6,
   "metadata": {},
   "outputs": [
    {
     "data": {
      "text/plain": [
       "GBR    30.615632\n",
       "ESP    17.981432\n",
       "IRL    10.103210\n",
       "FRA     7.390696\n",
       "DEU     4.771537\n",
       "CN      3.122245\n",
       "NLD     2.489497\n",
       "USA     2.375395\n",
       "ITA     2.173124\n",
       "CHE     2.152378\n",
       "Name: country, dtype: float64"
      ]
     },
     "execution_count": 6,
     "metadata": {},
     "output_type": "execute_result"
    }
   ],
   "source": [
    "foreign_nationalities = foreign_customers[\"country\"].value_counts()\n",
    "\n",
    "foreign_nationalities_percentage = (\n",
    "    foreign_nationalities / len(foreign_customers)\n",
    ") * 100\n",
    "\n",
    "# top 10 highest countries\n",
    "top_countries = foreign_nationalities_percentage.head(10)\n",
    "\n",
    "top_countries\n"
   ]
  },
  {
   "cell_type": "code",
   "execution_count": 7,
   "metadata": {},
   "outputs": [
    {
     "data": {
      "image/png": "[encoded data removed]",
      "text/plain": [
       "<Figure size 1000x600 with 1 Axes>"
      ]
     },
     "metadata": {},
     "output_type": "display_data"
    }
   ],
   "source": [
    "# top 10 countries with highest percentage of foreign customers\n",
    "plt.figure(figsize=(10, 6))\n",
    "top_10_countries = top_countries.sort_values(ascending=True).tail(10)\n",
    "top_10_countries.sort_values().plot(kind=\"barh\", color=\"skyblue\", edgecolor=\"black\")\n",
    "\n",
    "mapping = {\n",
    "    \"GBR\": \"United Kingdom\",\n",
    "    \"FRA\": \"France\",\n",
    "    \"DEU\": \"Germany\",\n",
    "    \"ESP\": \"Spain\",\n",
    "    \"ITA\": \"Italy\",\n",
    "    \"IRL\": \"Ireland\",\n",
    "    \"BEL\": \"Belgium\",\n",
    "    \"BRA\": \"Brazil\",\n",
    "    \"NLD\": \"Netherlands\",\n",
    "    \"USA\": \"United States\",\n",
    "    \"CHE\": \"Switzerland\",\n",
    "    \"CN\": \"China\",\n",
    "}\n",
    "plt.yticks(\n",
    "    ticks=range(10),\n",
    "    labels=[mapping.get(country, country) for country in top_10_countries.index],\n",
    ")\n",
    "\n",
    "plt.title(\"Top 10 quốc gia có lượng du khách đặt Resort Hotel cao nhất\", fontsize=14)\n",
    "plt.xlabel(\"Tỉ lệ (%)\", fontsize=12)\n",
    "plt.ylabel(\"Quốc gia\", fontsize=12)\n",
    "plt.grid(axis=\"x\", linestyle=\"--\", alpha=0.7)\n",
    "plt.tight_layout()\n",
    "\n",
    "plt.show()\n"
   ]
  },
  {
   "cell_type": "markdown",
   "metadata": {},
   "source": [
    "**Nhận xét**:\n",
    "Trong top 10 quốc gia đặt phòng thì có CN (quốc gia châu Á), thể hiện loại hình khách sạn Resort được nhiều du khách từ đa dạng châu lục hơn so với City, vì..., đề xuất,...\n"
   ]
  },
  {
   "cell_type": "markdown",
   "metadata": {},
   "source": [
    "### 3. Doanh thu phân theo loại khách đặt phòng\n"
   ]
  },
  {
   "cell_type": "code",
   "execution_count": 8,
   "metadata": {},
   "outputs": [
    {
     "data": {
      "text/html": [
       "<div>\n",
       "<style scoped>\n",
       "    .dataframe tbody tr th:only-of-type {\n",
       "        vertical-align: middle;\n",
       "    }\n",
       "\n",
       "    .dataframe tbody tr th {\n",
       "        vertical-align: top;\n",
       "    }\n",
       "\n",
       "    .dataframe thead th {\n",
       "        text-align: right;\n",
       "    }\n",
       "</style>\n",
       "<table border=\"1\" class=\"dataframe\">\n",
       "  <thead>\n",
       "    <tr style=\"text-align: right;\">\n",
       "      <th></th>\n",
       "      <th>total_bookings</th>\n",
       "      <th>percentage_bookings</th>\n",
       "      <th>total_revenue</th>\n",
       "      <th>percentage_revenue</th>\n",
       "    </tr>\n",
       "  </thead>\n",
       "  <tbody>\n",
       "    <tr>\n",
       "      <th>Transient</th>\n",
       "      <td>26926</td>\n",
       "      <td>80.354532</td>\n",
       "      <td>12811549.68</td>\n",
       "      <td>82.173843</td>\n",
       "    </tr>\n",
       "    <tr>\n",
       "      <th>Transient-Party</th>\n",
       "      <td>4648</td>\n",
       "      <td>13.870900</td>\n",
       "      <td>1560914.42</td>\n",
       "      <td>10.011774</td>\n",
       "    </tr>\n",
       "    <tr>\n",
       "      <th>Contract</th>\n",
       "      <td>1668</td>\n",
       "      <td>4.977767</td>\n",
       "      <td>1143182.16</td>\n",
       "      <td>7.332421</td>\n",
       "    </tr>\n",
       "    <tr>\n",
       "      <th>Group</th>\n",
       "      <td>267</td>\n",
       "      <td>0.796801</td>\n",
       "      <td>75141.76</td>\n",
       "      <td>0.481963</td>\n",
       "    </tr>\n",
       "  </tbody>\n",
       "</table>\n",
       "</div>"
      ],
      "text/plain": [
       "                 total_bookings  percentage_bookings  total_revenue  \\\n",
       "Transient                 26926            80.354532    12811549.68   \n",
       "Transient-Party            4648            13.870900     1560914.42   \n",
       "Contract                   1668             4.977767     1143182.16   \n",
       "Group                       267             0.796801       75141.76   \n",
       "\n",
       "                 percentage_revenue  \n",
       "Transient                 82.173843  \n",
       "Transient-Party           10.011774  \n",
       "Contract                   7.332421  \n",
       "Group                      0.481963  "
      ]
     },
     "execution_count": 8,
     "metadata": {},
     "output_type": "execute_result"
    }
   ],
   "source": [
    "# raw number of bookings and percentages\n",
    "total_bookings = city_hotel_data[\"customer_type\"].value_counts()\n",
    "percentage_bookings = (total_bookings / total_bookings.sum()) * 100\n",
    "\n",
    "# total revenue (raw amount) and percentages\n",
    "total_revenue = city_hotel_data.groupby(\"customer_type\")[\"revenue\"].sum()\n",
    "percentage_revenue = (total_revenue / total_revenue.sum()) * 100\n",
    "\n",
    "# all insights into a DataFrame for comparison\n",
    "detailed_customer_analysis = pd.DataFrame(\n",
    "    {\n",
    "        \"total_bookings\": total_bookings,\n",
    "        \"percentage_bookings\": percentage_bookings,\n",
    "        \"total_revenue\": total_revenue,\n",
    "        \"percentage_revenue\": percentage_revenue,\n",
    "    }\n",
    ").sort_values(by=\"total_revenue\", ascending=False)\n",
    "\n",
    "detailed_customer_analysis\n"
   ]
  },
  {
   "cell_type": "code",
   "execution_count": 9,
   "metadata": {},
   "outputs": [
    {
     "data": {
      "image/png": "[encoded data removed]",
      "text/plain": [
       "<Figure size 1000x600 with 2 Axes>"
      ]
     },
     "metadata": {},
     "output_type": "display_data"
    }
   ],
   "source": [
    "fig, ax1 = plt.subplots(figsize=(10, 6))\n",
    "\n",
    "x = range(len(detailed_customer_analysis))\n",
    "bar_width = 0.4\n",
    "ax1.bar(\n",
    "    x,\n",
    "    detailed_customer_analysis[\"total_bookings\"],\n",
    "    bar_width,\n",
    "    color=\"blue\",\n",
    "    alpha=0.7,\n",
    "    label=\"Tổng đơn đặt\",\n",
    ")\n",
    "ax1.set_ylabel(\"Tổng đơn đặt\", color=\"blue\", fontsize=12)\n",
    "ax1.tick_params(axis=\"y\", labelcolor=\"blue\")\n",
    "\n",
    "ax2 = ax1.twinx()\n",
    "ax2.bar(\n",
    "    [p + bar_width for p in x],\n",
    "    detailed_customer_analysis[\"total_revenue\"],\n",
    "    bar_width,\n",
    "    color=\"green\",\n",
    "    alpha=0.7,\n",
    "    label=\"Tổng doanh thu\",\n",
    ")\n",
    "ax2.set_ylabel(\"Tổng doanh thu\", color=\"green\", fontsize=12)\n",
    "ax2.tick_params(axis=\"y\", labelcolor=\"green\")\n",
    "\n",
    "# Labels, title, and legend\n",
    "ax1.set_xlabel(\"Phân loại khách hàng\", fontsize=12)\n",
    "ax1.set_xticks([p + bar_width / 2 for p in x])\n",
    "ax1.set_xticklabels(detailed_customer_analysis.index)\n",
    "fig.legend(loc=\"upper right\", bbox_to_anchor=(0.85, 0.9), fontsize=10)\n",
    "plt.title(\"Tổng số đơn đặt phòng và Tổng doanh thu\", fontsize=14)\n",
    "plt.tight_layout()\n",
    "plt.show()\n"
   ]
  },
  {
   "cell_type": "code",
   "execution_count": 10,
   "metadata": {},
   "outputs": [
    {
     "data": {
      "image/png": "[encoded data removed]",
      "text/plain": [
       "<Figure size 1400x600 with 2 Axes>"
      ]
     },
     "metadata": {},
     "output_type": "display_data"
    }
   ],
   "source": [
    "fig, ax = plt.subplots(1, 2, figsize=(14, 6))\n",
    "\n",
    "ax[0].pie(\n",
    "    detailed_customer_analysis[\"percentage_bookings\"],\n",
    "    labels=detailed_customer_analysis.index,\n",
    "    autopct=\"%1.1f%%\",\n",
    "    startangle=45,\n",
    ")\n",
    "ax[0].set_title(\"Tỷ lệ đặt phòng theo loại khách hàng\")\n",
    "\n",
    "\n",
    "ax[1].pie(\n",
    "    detailed_customer_analysis[\"percentage_revenue\"],\n",
    "    labels=detailed_customer_analysis.index,\n",
    "    autopct=\"%1.1f%%\",\n",
    "    startangle=45,\n",
    ")\n",
    "ax[1].set_title(\"Tỷ lệ doanh thu theo loại khách hàng\")\n",
    "\n",
    "plt.tight_layout()\n",
    "plt.show()\n"
   ]
  },
  {
   "cell_type": "markdown",
   "metadata": {},
   "source": [
    "**Nhận xét**: Khách vãng lai (Transient) tuy chỉ ở thời gian ngắn nhung chiếm số đơn lớn nhất (80.4%), đồng thời đa số doanh thu cũng đến từ nguồn khách này\n"
   ]
  },
  {
   "cell_type": "markdown",
   "metadata": {},
   "source": [
    "## II) KHÁCH NỘI ĐỊA HAY QUỐC TẾ CÓ TỈ LỆ HỦY ĐƠN CAO HƠN ?\n"
   ]
  },
  {
   "cell_type": "markdown",
   "metadata": {},
   "source": [
    "### Vẽ biểu đồ thể hiện tỉ lệ hủy đơn qua các quý của khách nội địa và khách quốc tế\n"
   ]
  },
  {
   "cell_type": "markdown",
   "metadata": {},
   "source": [
    "#### Tính số đơn hủy qua các quý của khách nội địa và khách quốc tế\n"
   ]
  },
  {
   "cell_type": "code",
   "execution_count": 11,
   "metadata": {},
   "outputs": [
    {
     "data": {
      "text/html": [
       "<div>\n",
       "<style scoped>\n",
       "    .dataframe tbody tr th:only-of-type {\n",
       "        vertical-align: middle;\n",
       "    }\n",
       "\n",
       "    .dataframe tbody tr th {\n",
       "        vertical-align: top;\n",
       "    }\n",
       "\n",
       "    .dataframe thead th {\n",
       "        text-align: right;\n",
       "    }\n",
       "</style>\n",
       "<table border=\"1\" class=\"dataframe\">\n",
       "  <thead>\n",
       "    <tr style=\"text-align: right;\">\n",
       "      <th>quarter_year</th>\n",
       "      <th>2015Q3</th>\n",
       "      <th>2015Q4</th>\n",
       "      <th>2016Q1</th>\n",
       "      <th>2016Q2</th>\n",
       "      <th>2016Q3</th>\n",
       "      <th>2016Q4</th>\n",
       "      <th>2017Q1</th>\n",
       "      <th>2017Q2</th>\n",
       "      <th>2017Q3</th>\n",
       "    </tr>\n",
       "    <tr>\n",
       "      <th>is_domestic</th>\n",
       "      <th></th>\n",
       "      <th></th>\n",
       "      <th></th>\n",
       "      <th></th>\n",
       "      <th></th>\n",
       "      <th></th>\n",
       "      <th></th>\n",
       "      <th></th>\n",
       "      <th></th>\n",
       "    </tr>\n",
       "  </thead>\n",
       "  <tbody>\n",
       "    <tr>\n",
       "      <th>False</th>\n",
       "      <td>20</td>\n",
       "      <td>18</td>\n",
       "      <td>18</td>\n",
       "      <td>167</td>\n",
       "      <td>513</td>\n",
       "      <td>456</td>\n",
       "      <td>377</td>\n",
       "      <td>796</td>\n",
       "      <td>705</td>\n",
       "    </tr>\n",
       "    <tr>\n",
       "      <th>True</th>\n",
       "      <td>853</td>\n",
       "      <td>390</td>\n",
       "      <td>460</td>\n",
       "      <td>695</td>\n",
       "      <td>754</td>\n",
       "      <td>356</td>\n",
       "      <td>324</td>\n",
       "      <td>530</td>\n",
       "      <td>542</td>\n",
       "    </tr>\n",
       "  </tbody>\n",
       "</table>\n",
       "</div>"
      ],
      "text/plain": [
       "quarter_year  2015Q3  2015Q4  2016Q1  2016Q2  2016Q3  2016Q4  2017Q1  2017Q2  \\\n",
       "is_domestic                                                                    \n",
       "False             20      18      18     167     513     456     377     796   \n",
       "True             853     390     460     695     754     356     324     530   \n",
       "\n",
       "quarter_year  2017Q3  \n",
       "is_domestic           \n",
       "False            705  \n",
       "True             542  "
      ]
     },
     "execution_count": 11,
     "metadata": {},
     "output_type": "execute_result"
    }
   ],
   "source": [
    "df[\"quarter_year\"] = df[\"arrival_date\"].dt.to_period(\"Q\")\n",
    "df[\"is_domestic\"] = df[\"country\"] == \"PRT\"\n",
    "\n",
    "\n",
    "df_canceled = df[df[\"is_canceled\"] == 1]\n",
    "\n",
    "num_canceled_order = (\n",
    "    df_canceled.groupby([\"is_domestic\", \"quarter_year\"]).size().unstack()\n",
    ")\n",
    "\n",
    "num_canceled_order\n"
   ]
  },
  {
   "cell_type": "markdown",
   "metadata": {},
   "source": [
    "#### Tính số đơn đã đặt qua các qúy của khách nội địa và khách quốc tế\n"
   ]
  },
  {
   "cell_type": "code",
   "execution_count": 12,
   "metadata": {},
   "outputs": [
    {
     "data": {
      "text/html": [
       "<div>\n",
       "<style scoped>\n",
       "    .dataframe tbody tr th:only-of-type {\n",
       "        vertical-align: middle;\n",
       "    }\n",
       "\n",
       "    .dataframe tbody tr th {\n",
       "        vertical-align: top;\n",
       "    }\n",
       "\n",
       "    .dataframe thead th {\n",
       "        text-align: right;\n",
       "    }\n",
       "</style>\n",
       "<table border=\"1\" class=\"dataframe\">\n",
       "  <thead>\n",
       "    <tr style=\"text-align: right;\">\n",
       "      <th>quarter_year</th>\n",
       "      <th>2015Q3</th>\n",
       "      <th>2015Q4</th>\n",
       "      <th>2016Q1</th>\n",
       "      <th>2016Q2</th>\n",
       "      <th>2016Q3</th>\n",
       "      <th>2016Q4</th>\n",
       "      <th>2017Q1</th>\n",
       "      <th>2017Q2</th>\n",
       "      <th>2017Q3</th>\n",
       "    </tr>\n",
       "    <tr>\n",
       "      <th>is_domestic</th>\n",
       "      <th></th>\n",
       "      <th></th>\n",
       "      <th></th>\n",
       "      <th></th>\n",
       "      <th></th>\n",
       "      <th></th>\n",
       "      <th></th>\n",
       "      <th></th>\n",
       "      <th></th>\n",
       "    </tr>\n",
       "  </thead>\n",
       "  <tbody>\n",
       "    <tr>\n",
       "      <th>False</th>\n",
       "      <td>1797</td>\n",
       "      <td>1488</td>\n",
       "      <td>1521</td>\n",
       "      <td>2411</td>\n",
       "      <td>2566</td>\n",
       "      <td>2519</td>\n",
       "      <td>2118</td>\n",
       "      <td>3178</td>\n",
       "      <td>2129</td>\n",
       "    </tr>\n",
       "    <tr>\n",
       "      <th>True</th>\n",
       "      <td>1993</td>\n",
       "      <td>1479</td>\n",
       "      <td>1905</td>\n",
       "      <td>1615</td>\n",
       "      <td>1687</td>\n",
       "      <td>1405</td>\n",
       "      <td>1564</td>\n",
       "      <td>1326</td>\n",
       "      <td>1254</td>\n",
       "    </tr>\n",
       "  </tbody>\n",
       "</table>\n",
       "</div>"
      ],
      "text/plain": [
       "quarter_year  2015Q3  2015Q4  2016Q1  2016Q2  2016Q3  2016Q4  2017Q1  2017Q2  \\\n",
       "is_domestic                                                                    \n",
       "False           1797    1488    1521    2411    2566    2519    2118    3178   \n",
       "True            1993    1479    1905    1615    1687    1405    1564    1326   \n",
       "\n",
       "quarter_year  2017Q3  \n",
       "is_domestic           \n",
       "False           2129  \n",
       "True            1254  "
      ]
     },
     "execution_count": 12,
     "metadata": {},
     "output_type": "execute_result"
    }
   ],
   "source": [
    "num_order = df.groupby([\"is_domestic\", \"quarter_year\"]).size().unstack()\n",
    "\n",
    "num_order\n"
   ]
  },
  {
   "cell_type": "markdown",
   "metadata": {},
   "source": [
    "#### Tỉ lệ hủy đơn qua các quý của khách nội địa và khách quốc tế\n"
   ]
  },
  {
   "cell_type": "code",
   "execution_count": 13,
   "metadata": {},
   "outputs": [
    {
     "data": {
      "text/html": [
       "<div>\n",
       "<style scoped>\n",
       "    .dataframe tbody tr th:only-of-type {\n",
       "        vertical-align: middle;\n",
       "    }\n",
       "\n",
       "    .dataframe tbody tr th {\n",
       "        vertical-align: top;\n",
       "    }\n",
       "\n",
       "    .dataframe thead th {\n",
       "        text-align: right;\n",
       "    }\n",
       "</style>\n",
       "<table border=\"1\" class=\"dataframe\">\n",
       "  <thead>\n",
       "    <tr style=\"text-align: right;\">\n",
       "      <th>quarter_year</th>\n",
       "      <th>2015Q3</th>\n",
       "      <th>2015Q4</th>\n",
       "      <th>2016Q1</th>\n",
       "      <th>2016Q2</th>\n",
       "      <th>2016Q3</th>\n",
       "      <th>2016Q4</th>\n",
       "      <th>2017Q1</th>\n",
       "      <th>2017Q2</th>\n",
       "      <th>2017Q3</th>\n",
       "    </tr>\n",
       "    <tr>\n",
       "      <th>is_domestic</th>\n",
       "      <th></th>\n",
       "      <th></th>\n",
       "      <th></th>\n",
       "      <th></th>\n",
       "      <th></th>\n",
       "      <th></th>\n",
       "      <th></th>\n",
       "      <th></th>\n",
       "      <th></th>\n",
       "    </tr>\n",
       "  </thead>\n",
       "  <tbody>\n",
       "    <tr>\n",
       "      <th>False</th>\n",
       "      <td>1.11</td>\n",
       "      <td>1.21</td>\n",
       "      <td>1.18</td>\n",
       "      <td>6.93</td>\n",
       "      <td>19.99</td>\n",
       "      <td>18.10</td>\n",
       "      <td>17.80</td>\n",
       "      <td>25.05</td>\n",
       "      <td>33.11</td>\n",
       "    </tr>\n",
       "    <tr>\n",
       "      <th>True</th>\n",
       "      <td>42.80</td>\n",
       "      <td>26.37</td>\n",
       "      <td>24.15</td>\n",
       "      <td>43.03</td>\n",
       "      <td>44.69</td>\n",
       "      <td>25.34</td>\n",
       "      <td>20.72</td>\n",
       "      <td>39.97</td>\n",
       "      <td>43.22</td>\n",
       "    </tr>\n",
       "  </tbody>\n",
       "</table>\n",
       "</div>"
      ],
      "text/plain": [
       "quarter_year  2015Q3  2015Q4  2016Q1  2016Q2  2016Q3  2016Q4  2017Q1  2017Q2  \\\n",
       "is_domestic                                                                    \n",
       "False           1.11    1.21    1.18    6.93   19.99   18.10   17.80   25.05   \n",
       "True           42.80   26.37   24.15   43.03   44.69   25.34   20.72   39.97   \n",
       "\n",
       "quarter_year  2017Q3  \n",
       "is_domestic           \n",
       "False          33.11  \n",
       "True           43.22  "
      ]
     },
     "execution_count": 13,
     "metadata": {},
     "output_type": "execute_result"
    }
   ],
   "source": [
    "cancel_ratio = num_canceled_order / num_order * 100\n",
    "\n",
    "cancel_ratio = cancel_ratio.round(2)\n",
    "\n",
    "cancel_ratio\n"
   ]
  },
  {
   "cell_type": "markdown",
   "metadata": {},
   "source": [
    "#### Chuyển vị lại bảng\n"
   ]
  },
  {
   "cell_type": "code",
   "execution_count": 14,
   "metadata": {},
   "outputs": [
    {
     "data": {
      "text/html": [
       "<div>\n",
       "<style scoped>\n",
       "    .dataframe tbody tr th:only-of-type {\n",
       "        vertical-align: middle;\n",
       "    }\n",
       "\n",
       "    .dataframe tbody tr th {\n",
       "        vertical-align: top;\n",
       "    }\n",
       "\n",
       "    .dataframe thead th {\n",
       "        text-align: right;\n",
       "    }\n",
       "</style>\n",
       "<table border=\"1\" class=\"dataframe\">\n",
       "  <thead>\n",
       "    <tr style=\"text-align: right;\">\n",
       "      <th>is_domestic</th>\n",
       "      <th>False</th>\n",
       "      <th>True</th>\n",
       "    </tr>\n",
       "    <tr>\n",
       "      <th>quarter_year</th>\n",
       "      <th></th>\n",
       "      <th></th>\n",
       "    </tr>\n",
       "  </thead>\n",
       "  <tbody>\n",
       "    <tr>\n",
       "      <th>2015Q3</th>\n",
       "      <td>1.11</td>\n",
       "      <td>42.80</td>\n",
       "    </tr>\n",
       "    <tr>\n",
       "      <th>2015Q4</th>\n",
       "      <td>1.21</td>\n",
       "      <td>26.37</td>\n",
       "    </tr>\n",
       "    <tr>\n",
       "      <th>2016Q1</th>\n",
       "      <td>1.18</td>\n",
       "      <td>24.15</td>\n",
       "    </tr>\n",
       "    <tr>\n",
       "      <th>2016Q2</th>\n",
       "      <td>6.93</td>\n",
       "      <td>43.03</td>\n",
       "    </tr>\n",
       "    <tr>\n",
       "      <th>2016Q3</th>\n",
       "      <td>19.99</td>\n",
       "      <td>44.69</td>\n",
       "    </tr>\n",
       "    <tr>\n",
       "      <th>2016Q4</th>\n",
       "      <td>18.10</td>\n",
       "      <td>25.34</td>\n",
       "    </tr>\n",
       "    <tr>\n",
       "      <th>2017Q1</th>\n",
       "      <td>17.80</td>\n",
       "      <td>20.72</td>\n",
       "    </tr>\n",
       "    <tr>\n",
       "      <th>2017Q2</th>\n",
       "      <td>25.05</td>\n",
       "      <td>39.97</td>\n",
       "    </tr>\n",
       "    <tr>\n",
       "      <th>2017Q3</th>\n",
       "      <td>33.11</td>\n",
       "      <td>43.22</td>\n",
       "    </tr>\n",
       "  </tbody>\n",
       "</table>\n",
       "</div>"
      ],
      "text/plain": [
       "is_domestic   False  True \n",
       "quarter_year              \n",
       "2015Q3         1.11  42.80\n",
       "2015Q4         1.21  26.37\n",
       "2016Q1         1.18  24.15\n",
       "2016Q2         6.93  43.03\n",
       "2016Q3        19.99  44.69\n",
       "2016Q4        18.10  25.34\n",
       "2017Q1        17.80  20.72\n",
       "2017Q2        25.05  39.97\n",
       "2017Q3        33.11  43.22"
      ]
     },
     "execution_count": 14,
     "metadata": {},
     "output_type": "execute_result"
    }
   ],
   "source": [
    "cancel_ratio = cancel_ratio.T\n",
    "\n",
    "cancel_ratio\n"
   ]
  },
  {
   "cell_type": "markdown",
   "metadata": {},
   "source": [
    "#### Đổi tên cột và reset index\n"
   ]
  },
  {
   "cell_type": "code",
   "execution_count": 15,
   "metadata": {},
   "outputs": [
    {
     "data": {
      "text/plain": [
       "Index(['quarter_year', 'international', 'domestic'], dtype='object', name='is_domestic')"
      ]
     },
     "execution_count": 15,
     "metadata": {},
     "output_type": "execute_result"
    }
   ],
   "source": [
    "cancel_ratio = cancel_ratio.rename(columns={False: \"international\", True: \"domestic\"})\n",
    "\n",
    "cancel_ratio = cancel_ratio.reset_index(names=\"quarter_year\")\n",
    "\n",
    "cancel_ratio.columns\n"
   ]
  },
  {
   "cell_type": "markdown",
   "metadata": {},
   "source": [
    "#### Vẽ biểu đồ\n"
   ]
  },
  {
   "cell_type": "code",
   "execution_count": 16,
   "metadata": {},
   "outputs": [
    {
     "data": {
      "image/png": "[encoded data removed]",
      "text/plain": [
       "<Figure size 1000x600 with 1 Axes>"
      ]
     },
     "metadata": {},
     "output_type": "display_data"
    }
   ],
   "source": [
    "def percent(x, pos):\n",
    "    return f\"{x:.0f}%\"\n",
    "\n",
    "\n",
    "cancel_ratio[\"quarter_year_tst\"] = cancel_ratio[\"quarter_year\"].dt.to_timestamp()\n",
    "\n",
    "\n",
    "plt.figure(figsize=(10, 6))\n",
    "plt.plot(\n",
    "    cancel_ratio[\"quarter_year_tst\"],\n",
    "    cancel_ratio[\"international\"],\n",
    "    label=\"international\",\n",
    "    marker=\"^\",\n",
    "    color=\"gray\",\n",
    ")\n",
    "plt.plot(\n",
    "    cancel_ratio[\"quarter_year_tst\"],\n",
    "    cancel_ratio[\"domestic\"],\n",
    "    label=\"domestic\",\n",
    "    marker=\"o\",\n",
    "    color=\"blue\",\n",
    ")\n",
    "\n",
    "\n",
    "plt.title(\"Tỉ lệ hủy đơn theo từng quý của khách nội địa và quốc tế\")\n",
    "plt.grid(axis=\"y\")\n",
    "plt.ylabel(\"Tỉ lệ\")\n",
    "plt.xlabel(\"Quý\")\n",
    "plt.gca().yaxis.set_major_formatter(ticker.FuncFormatter(percent))\n",
    "plt.legend()\n",
    "plt.show()\n"
   ]
  },
  {
   "cell_type": "markdown",
   "metadata": {},
   "source": [
    "- Từ biểu đồ nhận thấy tỉ lệ hủy đơn qua các quý của khách nội địa cao hơn nhiều so với khách quốc tế\n"
   ]
  },
  {
   "cell_type": "markdown",
   "metadata": {},
   "source": [
    "### Thực hiện kiểm định như sau:\n",
    "\n",
    "- H0: Trung bình tỉ lệ hủy đơn trong 1 tuần của khách nội địa và quốc tế là như nhau\n",
    "- H1: Trung bình tỉ lệ hủy đơn trong 1 tuần của khách nội địa lớn hơn khách quốc tế\n",
    "- alpha = 0.05\n",
    "\n",
    "- Lí do chọn 1 tuần mà không phải 1 tháng hay quý: để khảo sát ở khoảng thời gian hẹp hơn khi đó có nhiều mẫu để thực hiện kiểm định\n"
   ]
  },
  {
   "cell_type": "markdown",
   "metadata": {},
   "source": [
    "#### Tính số đơn hủy qua các tuần của khách nội địa và khách quốc tế\n"
   ]
  },
  {
   "cell_type": "code",
   "execution_count": 17,
   "metadata": {},
   "outputs": [
    {
     "data": {
      "text/html": [
       "<div>\n",
       "<style scoped>\n",
       "    .dataframe tbody tr th:only-of-type {\n",
       "        vertical-align: middle;\n",
       "    }\n",
       "\n",
       "    .dataframe tbody tr th {\n",
       "        vertical-align: top;\n",
       "    }\n",
       "\n",
       "    .dataframe thead th {\n",
       "        text-align: right;\n",
       "    }\n",
       "</style>\n",
       "<table border=\"1\" class=\"dataframe\">\n",
       "  <thead>\n",
       "    <tr style=\"text-align: right;\">\n",
       "      <th>week_year</th>\n",
       "      <th>2015-06-29/2015-07-05</th>\n",
       "      <th>2015-07-06/2015-07-12</th>\n",
       "      <th>2015-07-13/2015-07-19</th>\n",
       "      <th>2015-07-20/2015-07-26</th>\n",
       "      <th>2015-07-27/2015-08-02</th>\n",
       "      <th>2015-08-03/2015-08-09</th>\n",
       "      <th>2015-08-10/2015-08-16</th>\n",
       "      <th>2015-08-17/2015-08-23</th>\n",
       "      <th>2015-08-24/2015-08-30</th>\n",
       "      <th>2015-08-31/2015-09-06</th>\n",
       "      <th>...</th>\n",
       "      <th>2017-06-26/2017-07-02</th>\n",
       "      <th>2017-07-03/2017-07-09</th>\n",
       "      <th>2017-07-10/2017-07-16</th>\n",
       "      <th>2017-07-17/2017-07-23</th>\n",
       "      <th>2017-07-24/2017-07-30</th>\n",
       "      <th>2017-07-31/2017-08-06</th>\n",
       "      <th>2017-08-07/2017-08-13</th>\n",
       "      <th>2017-08-14/2017-08-20</th>\n",
       "      <th>2017-08-21/2017-08-27</th>\n",
       "      <th>2017-08-28/2017-09-03</th>\n",
       "    </tr>\n",
       "    <tr>\n",
       "      <th>is_domestic</th>\n",
       "      <th></th>\n",
       "      <th></th>\n",
       "      <th></th>\n",
       "      <th></th>\n",
       "      <th></th>\n",
       "      <th></th>\n",
       "      <th></th>\n",
       "      <th></th>\n",
       "      <th></th>\n",
       "      <th></th>\n",
       "      <th></th>\n",
       "      <th></th>\n",
       "      <th></th>\n",
       "      <th></th>\n",
       "      <th></th>\n",
       "      <th></th>\n",
       "      <th></th>\n",
       "      <th></th>\n",
       "      <th></th>\n",
       "      <th></th>\n",
       "      <th></th>\n",
       "    </tr>\n",
       "  </thead>\n",
       "  <tbody>\n",
       "    <tr>\n",
       "      <th>False</th>\n",
       "      <td>0.0</td>\n",
       "      <td>0.0</td>\n",
       "      <td>0.0</td>\n",
       "      <td>0.0</td>\n",
       "      <td>0.0</td>\n",
       "      <td>0.0</td>\n",
       "      <td>0.0</td>\n",
       "      <td>0.0</td>\n",
       "      <td>0.0</td>\n",
       "      <td>8.0</td>\n",
       "      <td>...</td>\n",
       "      <td>74.0</td>\n",
       "      <td>63.0</td>\n",
       "      <td>72.0</td>\n",
       "      <td>69.0</td>\n",
       "      <td>91.0</td>\n",
       "      <td>97.0</td>\n",
       "      <td>72.0</td>\n",
       "      <td>92.0</td>\n",
       "      <td>73.0</td>\n",
       "      <td>45.0</td>\n",
       "    </tr>\n",
       "    <tr>\n",
       "      <th>True</th>\n",
       "      <td>48.0</td>\n",
       "      <td>47.0</td>\n",
       "      <td>65.0</td>\n",
       "      <td>67.0</td>\n",
       "      <td>88.0</td>\n",
       "      <td>70.0</td>\n",
       "      <td>93.0</td>\n",
       "      <td>60.0</td>\n",
       "      <td>76.0</td>\n",
       "      <td>72.0</td>\n",
       "      <td>...</td>\n",
       "      <td>66.0</td>\n",
       "      <td>49.0</td>\n",
       "      <td>62.0</td>\n",
       "      <td>64.0</td>\n",
       "      <td>52.0</td>\n",
       "      <td>77.0</td>\n",
       "      <td>52.0</td>\n",
       "      <td>77.0</td>\n",
       "      <td>57.0</td>\n",
       "      <td>26.0</td>\n",
       "    </tr>\n",
       "  </tbody>\n",
       "</table>\n",
       "<p>2 rows × 114 columns</p>\n",
       "</div>"
      ],
      "text/plain": [
       "week_year    2015-06-29/2015-07-05  2015-07-06/2015-07-12  \\\n",
       "is_domestic                                                 \n",
       "False                          0.0                    0.0   \n",
       "True                          48.0                   47.0   \n",
       "\n",
       "week_year    2015-07-13/2015-07-19  2015-07-20/2015-07-26  \\\n",
       "is_domestic                                                 \n",
       "False                          0.0                    0.0   \n",
       "True                          65.0                   67.0   \n",
       "\n",
       "week_year    2015-07-27/2015-08-02  2015-08-03/2015-08-09  \\\n",
       "is_domestic                                                 \n",
       "False                          0.0                    0.0   \n",
       "True                          88.0                   70.0   \n",
       "\n",
       "week_year    2015-08-10/2015-08-16  2015-08-17/2015-08-23  \\\n",
       "is_domestic                                                 \n",
       "False                          0.0                    0.0   \n",
       "True                          93.0                   60.0   \n",
       "\n",
       "week_year    2015-08-24/2015-08-30  2015-08-31/2015-09-06  ...  \\\n",
       "is_domestic                                                ...   \n",
       "False                          0.0                    8.0  ...   \n",
       "True                          76.0                   72.0  ...   \n",
       "\n",
       "week_year    2017-06-26/2017-07-02  2017-07-03/2017-07-09  \\\n",
       "is_domestic                                                 \n",
       "False                         74.0                   63.0   \n",
       "True                          66.0                   49.0   \n",
       "\n",
       "week_year    2017-07-10/2017-07-16  2017-07-17/2017-07-23  \\\n",
       "is_domestic                                                 \n",
       "False                         72.0                   69.0   \n",
       "True                          62.0                   64.0   \n",
       "\n",
       "week_year    2017-07-24/2017-07-30  2017-07-31/2017-08-06  \\\n",
       "is_domestic                                                 \n",
       "False                         91.0                   97.0   \n",
       "True                          52.0                   77.0   \n",
       "\n",
       "week_year    2017-08-07/2017-08-13  2017-08-14/2017-08-20  \\\n",
       "is_domestic                                                 \n",
       "False                         72.0                   92.0   \n",
       "True                          52.0                   77.0   \n",
       "\n",
       "week_year    2017-08-21/2017-08-27  2017-08-28/2017-09-03  \n",
       "is_domestic                                                \n",
       "False                         73.0                   45.0  \n",
       "True                          57.0                   26.0  \n",
       "\n",
       "[2 rows x 114 columns]"
      ]
     },
     "execution_count": 17,
     "metadata": {},
     "output_type": "execute_result"
    }
   ],
   "source": [
    "df[\"week_year\"] = df[\"arrival_date\"].dt.to_period(\"W\")\n",
    "\n",
    "df_canceled = df[df[\"is_canceled\"] == 1]\n",
    "\n",
    "num_canceled_order = df_canceled.groupby([\"is_domestic\", \"week_year\"]).size().unstack()\n",
    "\n",
    "num_canceled_order = num_canceled_order.fillna(0)\n",
    "\n",
    "num_canceled_order\n"
   ]
  },
  {
   "cell_type": "markdown",
   "metadata": {},
   "source": [
    "#### Tính số đơn qua các tuần của khách nội địa và khách quốc tế\n"
   ]
  },
  {
   "cell_type": "code",
   "execution_count": 18,
   "metadata": {},
   "outputs": [
    {
     "data": {
      "text/html": [
       "<div>\n",
       "<style scoped>\n",
       "    .dataframe tbody tr th:only-of-type {\n",
       "        vertical-align: middle;\n",
       "    }\n",
       "\n",
       "    .dataframe tbody tr th {\n",
       "        vertical-align: top;\n",
       "    }\n",
       "\n",
       "    .dataframe thead th {\n",
       "        text-align: right;\n",
       "    }\n",
       "</style>\n",
       "<table border=\"1\" class=\"dataframe\">\n",
       "  <thead>\n",
       "    <tr style=\"text-align: right;\">\n",
       "      <th>week_year</th>\n",
       "      <th>2015-06-29/2015-07-05</th>\n",
       "      <th>2015-07-06/2015-07-12</th>\n",
       "      <th>2015-07-13/2015-07-19</th>\n",
       "      <th>2015-07-20/2015-07-26</th>\n",
       "      <th>2015-07-27/2015-08-02</th>\n",
       "      <th>2015-08-03/2015-08-09</th>\n",
       "      <th>2015-08-10/2015-08-16</th>\n",
       "      <th>2015-08-17/2015-08-23</th>\n",
       "      <th>2015-08-24/2015-08-30</th>\n",
       "      <th>2015-08-31/2015-09-06</th>\n",
       "      <th>...</th>\n",
       "      <th>2017-06-26/2017-07-02</th>\n",
       "      <th>2017-07-03/2017-07-09</th>\n",
       "      <th>2017-07-10/2017-07-16</th>\n",
       "      <th>2017-07-17/2017-07-23</th>\n",
       "      <th>2017-07-24/2017-07-30</th>\n",
       "      <th>2017-07-31/2017-08-06</th>\n",
       "      <th>2017-08-07/2017-08-13</th>\n",
       "      <th>2017-08-14/2017-08-20</th>\n",
       "      <th>2017-08-21/2017-08-27</th>\n",
       "      <th>2017-08-28/2017-09-03</th>\n",
       "    </tr>\n",
       "    <tr>\n",
       "      <th>is_domestic</th>\n",
       "      <th></th>\n",
       "      <th></th>\n",
       "      <th></th>\n",
       "      <th></th>\n",
       "      <th></th>\n",
       "      <th></th>\n",
       "      <th></th>\n",
       "      <th></th>\n",
       "      <th></th>\n",
       "      <th></th>\n",
       "      <th></th>\n",
       "      <th></th>\n",
       "      <th></th>\n",
       "      <th></th>\n",
       "      <th></th>\n",
       "      <th></th>\n",
       "      <th></th>\n",
       "      <th></th>\n",
       "      <th></th>\n",
       "      <th></th>\n",
       "      <th></th>\n",
       "    </tr>\n",
       "  </thead>\n",
       "  <tbody>\n",
       "    <tr>\n",
       "      <th>False</th>\n",
       "      <td>104</td>\n",
       "      <td>121</td>\n",
       "      <td>119</td>\n",
       "      <td>123</td>\n",
       "      <td>135</td>\n",
       "      <td>103</td>\n",
       "      <td>118</td>\n",
       "      <td>104</td>\n",
       "      <td>121</td>\n",
       "      <td>161</td>\n",
       "      <td>...</td>\n",
       "      <td>218</td>\n",
       "      <td>236</td>\n",
       "      <td>256</td>\n",
       "      <td>229</td>\n",
       "      <td>252</td>\n",
       "      <td>252</td>\n",
       "      <td>231</td>\n",
       "      <td>238</td>\n",
       "      <td>222</td>\n",
       "      <td>135</td>\n",
       "    </tr>\n",
       "    <tr>\n",
       "      <th>True</th>\n",
       "      <td>114</td>\n",
       "      <td>142</td>\n",
       "      <td>174</td>\n",
       "      <td>164</td>\n",
       "      <td>197</td>\n",
       "      <td>185</td>\n",
       "      <td>215</td>\n",
       "      <td>171</td>\n",
       "      <td>178</td>\n",
       "      <td>152</td>\n",
       "      <td>...</td>\n",
       "      <td>149</td>\n",
       "      <td>102</td>\n",
       "      <td>150</td>\n",
       "      <td>122</td>\n",
       "      <td>120</td>\n",
       "      <td>170</td>\n",
       "      <td>128</td>\n",
       "      <td>187</td>\n",
       "      <td>148</td>\n",
       "      <td>64</td>\n",
       "    </tr>\n",
       "  </tbody>\n",
       "</table>\n",
       "<p>2 rows × 114 columns</p>\n",
       "</div>"
      ],
      "text/plain": [
       "week_year    2015-06-29/2015-07-05  2015-07-06/2015-07-12  \\\n",
       "is_domestic                                                 \n",
       "False                          104                    121   \n",
       "True                           114                    142   \n",
       "\n",
       "week_year    2015-07-13/2015-07-19  2015-07-20/2015-07-26  \\\n",
       "is_domestic                                                 \n",
       "False                          119                    123   \n",
       "True                           174                    164   \n",
       "\n",
       "week_year    2015-07-27/2015-08-02  2015-08-03/2015-08-09  \\\n",
       "is_domestic                                                 \n",
       "False                          135                    103   \n",
       "True                           197                    185   \n",
       "\n",
       "week_year    2015-08-10/2015-08-16  2015-08-17/2015-08-23  \\\n",
       "is_domestic                                                 \n",
       "False                          118                    104   \n",
       "True                           215                    171   \n",
       "\n",
       "week_year    2015-08-24/2015-08-30  2015-08-31/2015-09-06  ...  \\\n",
       "is_domestic                                                ...   \n",
       "False                          121                    161  ...   \n",
       "True                           178                    152  ...   \n",
       "\n",
       "week_year    2017-06-26/2017-07-02  2017-07-03/2017-07-09  \\\n",
       "is_domestic                                                 \n",
       "False                          218                    236   \n",
       "True                           149                    102   \n",
       "\n",
       "week_year    2017-07-10/2017-07-16  2017-07-17/2017-07-23  \\\n",
       "is_domestic                                                 \n",
       "False                          256                    229   \n",
       "True                           150                    122   \n",
       "\n",
       "week_year    2017-07-24/2017-07-30  2017-07-31/2017-08-06  \\\n",
       "is_domestic                                                 \n",
       "False                          252                    252   \n",
       "True                           120                    170   \n",
       "\n",
       "week_year    2017-08-07/2017-08-13  2017-08-14/2017-08-20  \\\n",
       "is_domestic                                                 \n",
       "False                          231                    238   \n",
       "True                           128                    187   \n",
       "\n",
       "week_year    2017-08-21/2017-08-27  2017-08-28/2017-09-03  \n",
       "is_domestic                                                \n",
       "False                          222                    135  \n",
       "True                           148                     64  \n",
       "\n",
       "[2 rows x 114 columns]"
      ]
     },
     "execution_count": 18,
     "metadata": {},
     "output_type": "execute_result"
    }
   ],
   "source": [
    "num_order = df.groupby([\"is_domestic\", \"week_year\"]).size().unstack()\n",
    "\n",
    "num_order = num_order.fillna(0)\n",
    "\n",
    "num_order\n"
   ]
  },
  {
   "cell_type": "markdown",
   "metadata": {},
   "source": [
    "#### Tỉ lệ hủy đơn qua các tuần của khách nội địa và khách quốc tế\n"
   ]
  },
  {
   "cell_type": "code",
   "execution_count": 19,
   "metadata": {},
   "outputs": [
    {
     "data": {
      "text/html": [
       "<div>\n",
       "<style scoped>\n",
       "    .dataframe tbody tr th:only-of-type {\n",
       "        vertical-align: middle;\n",
       "    }\n",
       "\n",
       "    .dataframe tbody tr th {\n",
       "        vertical-align: top;\n",
       "    }\n",
       "\n",
       "    .dataframe thead th {\n",
       "        text-align: right;\n",
       "    }\n",
       "</style>\n",
       "<table border=\"1\" class=\"dataframe\">\n",
       "  <thead>\n",
       "    <tr style=\"text-align: right;\">\n",
       "      <th>week_year</th>\n",
       "      <th>2015-06-29/2015-07-05</th>\n",
       "      <th>2015-07-06/2015-07-12</th>\n",
       "      <th>2015-07-13/2015-07-19</th>\n",
       "      <th>2015-07-20/2015-07-26</th>\n",
       "      <th>2015-07-27/2015-08-02</th>\n",
       "      <th>2015-08-03/2015-08-09</th>\n",
       "      <th>2015-08-10/2015-08-16</th>\n",
       "      <th>2015-08-17/2015-08-23</th>\n",
       "      <th>2015-08-24/2015-08-30</th>\n",
       "      <th>2015-08-31/2015-09-06</th>\n",
       "      <th>...</th>\n",
       "      <th>2017-06-26/2017-07-02</th>\n",
       "      <th>2017-07-03/2017-07-09</th>\n",
       "      <th>2017-07-10/2017-07-16</th>\n",
       "      <th>2017-07-17/2017-07-23</th>\n",
       "      <th>2017-07-24/2017-07-30</th>\n",
       "      <th>2017-07-31/2017-08-06</th>\n",
       "      <th>2017-08-07/2017-08-13</th>\n",
       "      <th>2017-08-14/2017-08-20</th>\n",
       "      <th>2017-08-21/2017-08-27</th>\n",
       "      <th>2017-08-28/2017-09-03</th>\n",
       "    </tr>\n",
       "    <tr>\n",
       "      <th>is_domestic</th>\n",
       "      <th></th>\n",
       "      <th></th>\n",
       "      <th></th>\n",
       "      <th></th>\n",
       "      <th></th>\n",
       "      <th></th>\n",
       "      <th></th>\n",
       "      <th></th>\n",
       "      <th></th>\n",
       "      <th></th>\n",
       "      <th></th>\n",
       "      <th></th>\n",
       "      <th></th>\n",
       "      <th></th>\n",
       "      <th></th>\n",
       "      <th></th>\n",
       "      <th></th>\n",
       "      <th></th>\n",
       "      <th></th>\n",
       "      <th></th>\n",
       "      <th></th>\n",
       "    </tr>\n",
       "  </thead>\n",
       "  <tbody>\n",
       "    <tr>\n",
       "      <th>False</th>\n",
       "      <td>0.00</td>\n",
       "      <td>0.0</td>\n",
       "      <td>0.00</td>\n",
       "      <td>0.00</td>\n",
       "      <td>0.00</td>\n",
       "      <td>0.00</td>\n",
       "      <td>0.00</td>\n",
       "      <td>0.00</td>\n",
       "      <td>0.0</td>\n",
       "      <td>4.97</td>\n",
       "      <td>...</td>\n",
       "      <td>33.94</td>\n",
       "      <td>26.69</td>\n",
       "      <td>28.12</td>\n",
       "      <td>30.13</td>\n",
       "      <td>36.11</td>\n",
       "      <td>38.49</td>\n",
       "      <td>31.17</td>\n",
       "      <td>38.66</td>\n",
       "      <td>32.88</td>\n",
       "      <td>33.33</td>\n",
       "    </tr>\n",
       "    <tr>\n",
       "      <th>True</th>\n",
       "      <td>42.11</td>\n",
       "      <td>33.1</td>\n",
       "      <td>37.36</td>\n",
       "      <td>40.85</td>\n",
       "      <td>44.67</td>\n",
       "      <td>37.84</td>\n",
       "      <td>43.26</td>\n",
       "      <td>35.09</td>\n",
       "      <td>42.7</td>\n",
       "      <td>47.37</td>\n",
       "      <td>...</td>\n",
       "      <td>44.30</td>\n",
       "      <td>48.04</td>\n",
       "      <td>41.33</td>\n",
       "      <td>52.46</td>\n",
       "      <td>43.33</td>\n",
       "      <td>45.29</td>\n",
       "      <td>40.62</td>\n",
       "      <td>41.18</td>\n",
       "      <td>38.51</td>\n",
       "      <td>40.62</td>\n",
       "    </tr>\n",
       "  </tbody>\n",
       "</table>\n",
       "<p>2 rows × 114 columns</p>\n",
       "</div>"
      ],
      "text/plain": [
       "week_year    2015-06-29/2015-07-05  2015-07-06/2015-07-12  \\\n",
       "is_domestic                                                 \n",
       "False                         0.00                    0.0   \n",
       "True                         42.11                   33.1   \n",
       "\n",
       "week_year    2015-07-13/2015-07-19  2015-07-20/2015-07-26  \\\n",
       "is_domestic                                                 \n",
       "False                         0.00                   0.00   \n",
       "True                         37.36                  40.85   \n",
       "\n",
       "week_year    2015-07-27/2015-08-02  2015-08-03/2015-08-09  \\\n",
       "is_domestic                                                 \n",
       "False                         0.00                   0.00   \n",
       "True                         44.67                  37.84   \n",
       "\n",
       "week_year    2015-08-10/2015-08-16  2015-08-17/2015-08-23  \\\n",
       "is_domestic                                                 \n",
       "False                         0.00                   0.00   \n",
       "True                         43.26                  35.09   \n",
       "\n",
       "week_year    2015-08-24/2015-08-30  2015-08-31/2015-09-06  ...  \\\n",
       "is_domestic                                                ...   \n",
       "False                          0.0                   4.97  ...   \n",
       "True                          42.7                  47.37  ...   \n",
       "\n",
       "week_year    2017-06-26/2017-07-02  2017-07-03/2017-07-09  \\\n",
       "is_domestic                                                 \n",
       "False                        33.94                  26.69   \n",
       "True                         44.30                  48.04   \n",
       "\n",
       "week_year    2017-07-10/2017-07-16  2017-07-17/2017-07-23  \\\n",
       "is_domestic                                                 \n",
       "False                        28.12                  30.13   \n",
       "True                         41.33                  52.46   \n",
       "\n",
       "week_year    2017-07-24/2017-07-30  2017-07-31/2017-08-06  \\\n",
       "is_domestic                                                 \n",
       "False                        36.11                  38.49   \n",
       "True                         43.33                  45.29   \n",
       "\n",
       "week_year    2017-08-07/2017-08-13  2017-08-14/2017-08-20  \\\n",
       "is_domestic                                                 \n",
       "False                        31.17                  38.66   \n",
       "True                         40.62                  41.18   \n",
       "\n",
       "week_year    2017-08-21/2017-08-27  2017-08-28/2017-09-03  \n",
       "is_domestic                                                \n",
       "False                        32.88                  33.33  \n",
       "True                         38.51                  40.62  \n",
       "\n",
       "[2 rows x 114 columns]"
      ]
     },
     "execution_count": 19,
     "metadata": {},
     "output_type": "execute_result"
    }
   ],
   "source": [
    "cancel_ratio = num_canceled_order / num_order * 100\n",
    "\n",
    "cancel_ratio = cancel_ratio.round(2)\n",
    "\n",
    "cancel_ratio\n"
   ]
  },
  {
   "cell_type": "markdown",
   "metadata": {},
   "source": [
    "#### chuyển vị lại bảng và đặt tên lại các cột\n"
   ]
  },
  {
   "cell_type": "code",
   "execution_count": 20,
   "metadata": {},
   "outputs": [
    {
     "data": {
      "text/html": [
       "<div>\n",
       "<style scoped>\n",
       "    .dataframe tbody tr th:only-of-type {\n",
       "        vertical-align: middle;\n",
       "    }\n",
       "\n",
       "    .dataframe tbody tr th {\n",
       "        vertical-align: top;\n",
       "    }\n",
       "\n",
       "    .dataframe thead th {\n",
       "        text-align: right;\n",
       "    }\n",
       "</style>\n",
       "<table border=\"1\" class=\"dataframe\">\n",
       "  <thead>\n",
       "    <tr style=\"text-align: right;\">\n",
       "      <th>is_domestic</th>\n",
       "      <th>international</th>\n",
       "      <th>domestic</th>\n",
       "    </tr>\n",
       "    <tr>\n",
       "      <th>week_year</th>\n",
       "      <th></th>\n",
       "      <th></th>\n",
       "    </tr>\n",
       "  </thead>\n",
       "  <tbody>\n",
       "    <tr>\n",
       "      <th>2015-06-29/2015-07-05</th>\n",
       "      <td>0.00</td>\n",
       "      <td>42.11</td>\n",
       "    </tr>\n",
       "    <tr>\n",
       "      <th>2015-07-06/2015-07-12</th>\n",
       "      <td>0.00</td>\n",
       "      <td>33.10</td>\n",
       "    </tr>\n",
       "    <tr>\n",
       "      <th>2015-07-13/2015-07-19</th>\n",
       "      <td>0.00</td>\n",
       "      <td>37.36</td>\n",
       "    </tr>\n",
       "    <tr>\n",
       "      <th>2015-07-20/2015-07-26</th>\n",
       "      <td>0.00</td>\n",
       "      <td>40.85</td>\n",
       "    </tr>\n",
       "    <tr>\n",
       "      <th>2015-07-27/2015-08-02</th>\n",
       "      <td>0.00</td>\n",
       "      <td>44.67</td>\n",
       "    </tr>\n",
       "    <tr>\n",
       "      <th>...</th>\n",
       "      <td>...</td>\n",
       "      <td>...</td>\n",
       "    </tr>\n",
       "    <tr>\n",
       "      <th>2017-07-31/2017-08-06</th>\n",
       "      <td>38.49</td>\n",
       "      <td>45.29</td>\n",
       "    </tr>\n",
       "    <tr>\n",
       "      <th>2017-08-07/2017-08-13</th>\n",
       "      <td>31.17</td>\n",
       "      <td>40.62</td>\n",
       "    </tr>\n",
       "    <tr>\n",
       "      <th>2017-08-14/2017-08-20</th>\n",
       "      <td>38.66</td>\n",
       "      <td>41.18</td>\n",
       "    </tr>\n",
       "    <tr>\n",
       "      <th>2017-08-21/2017-08-27</th>\n",
       "      <td>32.88</td>\n",
       "      <td>38.51</td>\n",
       "    </tr>\n",
       "    <tr>\n",
       "      <th>2017-08-28/2017-09-03</th>\n",
       "      <td>33.33</td>\n",
       "      <td>40.62</td>\n",
       "    </tr>\n",
       "  </tbody>\n",
       "</table>\n",
       "<p>114 rows × 2 columns</p>\n",
       "</div>"
      ],
      "text/plain": [
       "is_domestic            international  domestic\n",
       "week_year                                     \n",
       "2015-06-29/2015-07-05           0.00     42.11\n",
       "2015-07-06/2015-07-12           0.00     33.10\n",
       "2015-07-13/2015-07-19           0.00     37.36\n",
       "2015-07-20/2015-07-26           0.00     40.85\n",
       "2015-07-27/2015-08-02           0.00     44.67\n",
       "...                              ...       ...\n",
       "2017-07-31/2017-08-06          38.49     45.29\n",
       "2017-08-07/2017-08-13          31.17     40.62\n",
       "2017-08-14/2017-08-20          38.66     41.18\n",
       "2017-08-21/2017-08-27          32.88     38.51\n",
       "2017-08-28/2017-09-03          33.33     40.62\n",
       "\n",
       "[114 rows x 2 columns]"
      ]
     },
     "execution_count": 20,
     "metadata": {},
     "output_type": "execute_result"
    }
   ],
   "source": [
    "cancel_ratio = cancel_ratio.T\n",
    "\n",
    "new_columns = {False: \"international\", True: \"domestic\"}\n",
    "\n",
    "cancel_ratio = cancel_ratio.rename(columns=new_columns)\n",
    "\n",
    "cancel_ratio\n"
   ]
  },
  {
   "cell_type": "markdown",
   "metadata": {},
   "source": [
    "#### Tính trung bình tỉ lệ hủy đơn trong 1 tuần của khách nội địa và khách quốc tế\n"
   ]
  },
  {
   "cell_type": "code",
   "execution_count": 21,
   "metadata": {},
   "outputs": [
    {
     "data": {
      "text/plain": [
       "is_domestic\n",
       "international    12.945439\n",
       "domestic         34.517807\n",
       "dtype: float64"
      ]
     },
     "execution_count": 21,
     "metadata": {},
     "output_type": "execute_result"
    }
   ],
   "source": [
    "mean_by_origin = cancel_ratio.mean()\n",
    "mean_by_origin\n"
   ]
  },
  {
   "cell_type": "markdown",
   "metadata": {},
   "source": [
    "#### Tạo hàm tính thống kê kiểm định\n"
   ]
  },
  {
   "cell_type": "code",
   "execution_count": 22,
   "metadata": {},
   "outputs": [],
   "source": [
    "def get_statistic(sample_a, sample_b):\n",
    "    return np.mean(sample_a) - np.mean(sample_b)\n"
   ]
  },
  {
   "cell_type": "markdown",
   "metadata": {},
   "source": [
    "#### Thực hiện kiểm định bằng permutation test\n"
   ]
  },
  {
   "cell_type": "code",
   "execution_count": 23,
   "metadata": {},
   "outputs": [
    {
     "data": {
      "text/plain": [
       "9.99999000001e-07"
      ]
     },
     "execution_count": 23,
     "metadata": {},
     "output_type": "execute_result"
    }
   ],
   "source": [
    "p_value = stats.permutation_test(\n",
    "    (cancel_ratio[\"domestic\"], cancel_ratio[\"international\"]),\n",
    "    statistic=get_statistic,\n",
    "    n_resamples=1000000,\n",
    "    alternative=\"greater\",\n",
    ").pvalue\n",
    "\n",
    "p_value\n"
   ]
  },
  {
   "cell_type": "markdown",
   "metadata": {},
   "source": [
    "- Giá trị p_value < 0.05 nên có cơ sở khẳng định trung bình tỉ lệ hủy đơn trong 1 tuần của khách nội địa lớn hơn khách quốc tế\n",
    "\n",
    "- Từ biểu đồ tỉ lệ hủy đơn theo quý và kết quả kiểm định như trên, có thể khẳng định rằng khách nội địa có xu hướng hủy đơn nhiều hơn so với khách quốc tế\n",
    "\n",
    "- Ý nghĩa: Việc khách nội địa có xu hướng hủy đơn nhiều hơn chứng tỏ dịch vụ của khách sạn vẫn chưa thực sự tốt, chính vì vậy, khách sạn cần cải thiện chất lượng dịch vụ để đáp ứng với yêu cầu của khách nội địa tốt hơn, vì thị trường nội địa đóng vai trò quan trọng trong sự phát triển của khách sạn.\n"
   ]
  },
  {
   "cell_type": "markdown",
   "metadata": {},
   "source": [
    "## III) THỜI ĐIỂM NÀO KHÁCH HÀNG CÓ KHẢ NĂNG ĐẶT PHÒNG NHƯ Ý NHIỀU NHẤT (ƯỚC LƯỢNG THÁNG ĐỘ TIN CẬY 95%)\n"
   ]
  },
  {
   "cell_type": "markdown",
   "metadata": {},
   "source": [
    "### Tính số đơn như ý theo từng tháng\n"
   ]
  },
  {
   "cell_type": "code",
   "execution_count": 24,
   "metadata": {},
   "outputs": [
    {
     "data": {
      "text/plain": [
       "1     1191\n",
       "2     1731\n",
       "3     1968\n",
       "4     2260\n",
       "5     2372\n",
       "6     2416\n",
       "7     3824\n",
       "8     4197\n",
       "9     1983\n",
       "10    2078\n",
       "11    1405\n",
       "12    1518\n",
       "Name: month, dtype: int64"
      ]
     },
     "execution_count": 24,
     "metadata": {},
     "output_type": "execute_result"
    }
   ],
   "source": [
    "df[\"month\"] = df[\"arrival_date\"].dt.month\n",
    "\n",
    "df_assign_like_order = df[df[\"assigned_room_type\"] == df[\"reserved_room_type\"]]\n",
    "\n",
    "num_order_assign_like_order_by_month = (\n",
    "    df_assign_like_order[\"month\"].value_counts().sort_index()\n",
    ")\n",
    "\n",
    "num_order_assign_like_order_by_month\n"
   ]
  },
  {
   "cell_type": "markdown",
   "metadata": {},
   "source": [
    "### Tính số đơn theo từng tháng\n"
   ]
  },
  {
   "cell_type": "code",
   "execution_count": 25,
   "metadata": {},
   "outputs": [
    {
     "data": {
      "text/plain": [
       "1     1961\n",
       "2     2491\n",
       "3     2656\n",
       "4     2828\n",
       "5     2942\n",
       "6     2760\n",
       "7     4312\n",
       "8     4664\n",
       "9     2450\n",
       "10    2726\n",
       "11    2050\n",
       "12    2115\n",
       "Name: month, dtype: int64"
      ]
     },
     "execution_count": 25,
     "metadata": {},
     "output_type": "execute_result"
    }
   ],
   "source": [
    "num_order_by_month = df[\"month\"].value_counts().sort_index()\n",
    "\n",
    "num_order_by_month\n"
   ]
  },
  {
   "cell_type": "markdown",
   "metadata": {},
   "source": [
    "### Tỉ lệ phần trăm đơn đặt được như ý theo từng tháng\n"
   ]
  },
  {
   "cell_type": "code",
   "execution_count": 26,
   "metadata": {},
   "outputs": [
    {
     "data": {
      "text/plain": [
       "1     60.73\n",
       "2     69.49\n",
       "3     74.10\n",
       "4     79.92\n",
       "5     80.63\n",
       "6     87.54\n",
       "7     88.68\n",
       "8     89.99\n",
       "9     80.94\n",
       "10    76.23\n",
       "11    68.54\n",
       "12    71.77\n",
       "Name: month, dtype: float64"
      ]
     },
     "execution_count": 26,
     "metadata": {},
     "output_type": "execute_result"
    }
   ],
   "source": [
    "percent_num_order_assign_like_order_by_month = (\n",
    "    num_order_assign_like_order_by_month / num_order_by_month * 100\n",
    ")\n",
    "percent_num_order_assign_like_order_by_month = (\n",
    "    percent_num_order_assign_like_order_by_month.round(2)\n",
    ")\n",
    "\n",
    "\n",
    "percent_num_order_assign_like_order_by_month\n"
   ]
  },
  {
   "cell_type": "markdown",
   "metadata": {},
   "source": [
    "### Gộp lại thành bảng\n"
   ]
  },
  {
   "cell_type": "code",
   "execution_count": 27,
   "metadata": {},
   "outputs": [
    {
     "data": {
      "text/html": [
       "<div>\n",
       "<style scoped>\n",
       "    .dataframe tbody tr th:only-of-type {\n",
       "        vertical-align: middle;\n",
       "    }\n",
       "\n",
       "    .dataframe tbody tr th {\n",
       "        vertical-align: top;\n",
       "    }\n",
       "\n",
       "    .dataframe thead th {\n",
       "        text-align: right;\n",
       "    }\n",
       "</style>\n",
       "<table border=\"1\" class=\"dataframe\">\n",
       "  <thead>\n",
       "    <tr style=\"text-align: right;\">\n",
       "      <th></th>\n",
       "      <th>num_order_assign_like_order</th>\n",
       "      <th>num_order</th>\n",
       "      <th>percent</th>\n",
       "    </tr>\n",
       "  </thead>\n",
       "  <tbody>\n",
       "    <tr>\n",
       "      <th>1</th>\n",
       "      <td>1191</td>\n",
       "      <td>1961</td>\n",
       "      <td>60.73</td>\n",
       "    </tr>\n",
       "    <tr>\n",
       "      <th>2</th>\n",
       "      <td>1731</td>\n",
       "      <td>2491</td>\n",
       "      <td>69.49</td>\n",
       "    </tr>\n",
       "    <tr>\n",
       "      <th>3</th>\n",
       "      <td>1968</td>\n",
       "      <td>2656</td>\n",
       "      <td>74.10</td>\n",
       "    </tr>\n",
       "    <tr>\n",
       "      <th>4</th>\n",
       "      <td>2260</td>\n",
       "      <td>2828</td>\n",
       "      <td>79.92</td>\n",
       "    </tr>\n",
       "    <tr>\n",
       "      <th>5</th>\n",
       "      <td>2372</td>\n",
       "      <td>2942</td>\n",
       "      <td>80.63</td>\n",
       "    </tr>\n",
       "    <tr>\n",
       "      <th>6</th>\n",
       "      <td>2416</td>\n",
       "      <td>2760</td>\n",
       "      <td>87.54</td>\n",
       "    </tr>\n",
       "    <tr>\n",
       "      <th>7</th>\n",
       "      <td>3824</td>\n",
       "      <td>4312</td>\n",
       "      <td>88.68</td>\n",
       "    </tr>\n",
       "    <tr>\n",
       "      <th>8</th>\n",
       "      <td>4197</td>\n",
       "      <td>4664</td>\n",
       "      <td>89.99</td>\n",
       "    </tr>\n",
       "    <tr>\n",
       "      <th>9</th>\n",
       "      <td>1983</td>\n",
       "      <td>2450</td>\n",
       "      <td>80.94</td>\n",
       "    </tr>\n",
       "    <tr>\n",
       "      <th>10</th>\n",
       "      <td>2078</td>\n",
       "      <td>2726</td>\n",
       "      <td>76.23</td>\n",
       "    </tr>\n",
       "    <tr>\n",
       "      <th>11</th>\n",
       "      <td>1405</td>\n",
       "      <td>2050</td>\n",
       "      <td>68.54</td>\n",
       "    </tr>\n",
       "    <tr>\n",
       "      <th>12</th>\n",
       "      <td>1518</td>\n",
       "      <td>2115</td>\n",
       "      <td>71.77</td>\n",
       "    </tr>\n",
       "  </tbody>\n",
       "</table>\n",
       "</div>"
      ],
      "text/plain": [
       "    num_order_assign_like_order  num_order  percent\n",
       "1                          1191       1961    60.73\n",
       "2                          1731       2491    69.49\n",
       "3                          1968       2656    74.10\n",
       "4                          2260       2828    79.92\n",
       "5                          2372       2942    80.63\n",
       "6                          2416       2760    87.54\n",
       "7                          3824       4312    88.68\n",
       "8                          4197       4664    89.99\n",
       "9                          1983       2450    80.94\n",
       "10                         2078       2726    76.23\n",
       "11                         1405       2050    68.54\n",
       "12                         1518       2115    71.77"
      ]
     },
     "execution_count": 27,
     "metadata": {},
     "output_type": "execute_result"
    }
   ],
   "source": [
    "num_order_assign_like_order_by_month = num_order_assign_like_order_by_month.to_frame(\n",
    "    name=\"num_order_assign_like_order\"\n",
    ")\n",
    "num_order_by_month = num_order_by_month.to_frame(name=\"num_order\")\n",
    "percent_num_order_assign_like_order_by_month = (\n",
    "    percent_num_order_assign_like_order_by_month.to_frame(name=\"percent\")\n",
    ")\n",
    "\n",
    "table = pd.concat(\n",
    "    [\n",
    "        num_order_assign_like_order_by_month,\n",
    "        num_order_by_month,\n",
    "        percent_num_order_assign_like_order_by_month,\n",
    "    ],\n",
    "    axis=1,\n",
    ")\n",
    "\n",
    "table\n"
   ]
  },
  {
   "cell_type": "markdown",
   "metadata": {},
   "source": [
    "### Tìm khoảng tin cậy cho tỉ lệ đơn như ý theo từng tháng\n"
   ]
  },
  {
   "cell_type": "markdown",
   "metadata": {},
   "source": [
    "#### Tìm số đơn đặt không như ý theo từng tháng\n"
   ]
  },
  {
   "cell_type": "code",
   "execution_count": 28,
   "metadata": {},
   "outputs": [],
   "source": [
    "table[\"num_order_assign_not_like_order\"] = (\n",
    "    table[\"num_order\"] - table[\"num_order_assign_like_order\"]\n",
    ")\n"
   ]
  },
  {
   "cell_type": "markdown",
   "metadata": {},
   "source": [
    "#### Tạo danh sách gồm 2 số 1 và 0, 1: như ý và 0: không như ý\n"
   ]
  },
  {
   "cell_type": "code",
   "execution_count": 29,
   "metadata": {},
   "outputs": [
    {
     "data": {
      "text/plain": [
       "1     [1, 1, 1, 1, 1, 1, 1, 1, 1, 1, 1, 1, 1, 1, 1, ...\n",
       "2     [1, 1, 1, 1, 1, 1, 1, 1, 1, 1, 1, 1, 1, 1, 1, ...\n",
       "3     [1, 1, 1, 1, 1, 1, 1, 1, 1, 1, 1, 1, 1, 1, 1, ...\n",
       "4     [1, 1, 1, 1, 1, 1, 1, 1, 1, 1, 1, 1, 1, 1, 1, ...\n",
       "5     [1, 1, 1, 1, 1, 1, 1, 1, 1, 1, 1, 1, 1, 1, 1, ...\n",
       "6     [1, 1, 1, 1, 1, 1, 1, 1, 1, 1, 1, 1, 1, 1, 1, ...\n",
       "7     [1, 1, 1, 1, 1, 1, 1, 1, 1, 1, 1, 1, 1, 1, 1, ...\n",
       "8     [1, 1, 1, 1, 1, 1, 1, 1, 1, 1, 1, 1, 1, 1, 1, ...\n",
       "9     [1, 1, 1, 1, 1, 1, 1, 1, 1, 1, 1, 1, 1, 1, 1, ...\n",
       "10    [1, 1, 1, 1, 1, 1, 1, 1, 1, 1, 1, 1, 1, 1, 1, ...\n",
       "11    [1, 1, 1, 1, 1, 1, 1, 1, 1, 1, 1, 1, 1, 1, 1, ...\n",
       "12    [1, 1, 1, 1, 1, 1, 1, 1, 1, 1, 1, 1, 1, 1, 1, ...\n",
       "dtype: object"
      ]
     },
     "execution_count": 29,
     "metadata": {},
     "output_type": "execute_result"
    }
   ],
   "source": [
    "# 1: đơn được như ý và 0: là không như ý\n",
    "list_1_by_month = table[\"num_order_assign_like_order\"].apply(lambda x: [1] * x)\n",
    "list_0_by_month = table[\"num_order_assign_not_like_order\"].apply(lambda x: [0] * x)\n",
    "\n",
    "list_1_and_0_by_month = list_1_by_month + list_0_by_month\n",
    "\n",
    "list_1_and_0_by_month\n"
   ]
  },
  {
   "cell_type": "markdown",
   "metadata": {},
   "source": [
    "#### Thực hiện ước lượng khoảng tin cậy cho tỉ lệ đặt đơn như ý trong từng tháng\n"
   ]
  },
  {
   "cell_type": "code",
   "execution_count": null,
   "metadata": {},
   "outputs": [],
   "source": [
    "def get_ci_for_ratio(sample):\n",
    "    res = stats.bootstrap(\n",
    "        (sample,), np.mean, confidence_level=0.95, n_resamples=100000\n",
    "    ).confidence_interval\n",
    "\n",
    "    res = [round(item * 100, 2) for item in res]\n",
    "\n",
    "    return res\n",
    "\n",
    "\n",
    "ci_for_ratio_by_month = list_1_and_0_by_month.apply(lambda x: get_ci_for_ratio(x))\n",
    "\n",
    "ci_for_ratio_by_month\n"
   ]
  },
  {
   "cell_type": "markdown",
   "metadata": {},
   "source": [
    "#### Tổng hợp vào trong bảng\n"
   ]
  },
  {
   "cell_type": "code",
   "execution_count": null,
   "metadata": {},
   "outputs": [],
   "source": [
    "table[\"lower_ratio_bound\"] = ci_for_ratio_by_month.apply(lambda x: x[0])\n",
    "table[\"upper_ratio_bound\"] = ci_for_ratio_by_month.apply(lambda x: x[1])\n",
    "\n",
    "table\n"
   ]
  },
  {
   "cell_type": "markdown",
   "metadata": {},
   "source": [
    "### Vẽ biểu đồ minh họa cho khoảng tin cậy 95% tỉ lệ đặt đơn như ý theo từng tháng và biểu đồ số đơn đặt theo từng tháng\n"
   ]
  },
  {
   "cell_type": "code",
   "execution_count": null,
   "metadata": {},
   "outputs": [],
   "source": [
    "def percent(x, pos):\n",
    "    return f\"{x:.0f}%\"\n",
    "\n",
    "\n",
    "fig, axes = plt.subplots(nrows=1, ncols=2, figsize=(15, 5))\n",
    "\n",
    "# Vẽ biểu đồ khoảng tin cậy cho tỉ lệ\n",
    "ax = axes[0]\n",
    "ax.plot(\n",
    "    table.index, table[\"lower_ratio_bound\"], marker=\"^\", label=\"lower 95%\", color=\"grey\"\n",
    ")\n",
    "ax.plot(\n",
    "    table.index, table[\"upper_ratio_bound\"], marker=\"o\", label=\"upper 95%\", color=\"cyan\"\n",
    ")\n",
    "\n",
    "\n",
    "ax.set_xticks(table.index)\n",
    "ax.set_xlabel(\"Tháng\")\n",
    "ax.set_ylabel(\"Tỉ lệ\")\n",
    "ax.set_title(\"Khoảng tin cậy 95% cho tỉ lệ đặt được phòng như ý\")\n",
    "ax.legend()\n",
    "ax.grid(axis=\"y\")\n",
    "\n",
    "ax.yaxis.set_major_formatter(ticker.FuncFormatter(percent))\n",
    "\n",
    "# Vẽ biểu đồ số đơn đặt theo từng tháng\n",
    "ax = axes[1]\n",
    "ax.plot(table.index, table[\"num_order\"], marker=\"o\", color=\"blue\")\n",
    "\n",
    "ax.set_xticks(table.index)\n",
    "ax.set_xlabel(\"Tháng\")\n",
    "ax.set_ylabel(\"Đơn\")\n",
    "ax.set_title(\"Số đơn đặt theo từng tháng\")\n",
    "ax.grid(axis=\"y\")\n",
    "\n",
    "plt.show()\n"
   ]
  },
  {
   "cell_type": "markdown",
   "metadata": {},
   "source": [
    "- Từ biểu đồ, ta thấy khả năng đặt được phòng như ý từ tháng 5 đến tháng 9 trên 80%, khá cao, còn đối với khoảng thời gian đầu năm và cuối năm khả năng đặt được phòng nhỏ hơn 75%, điều này chứng tỏ với vai trò là khách hàng, nên xem xét việc đặt khách sạn ở khoảng thời gian tháng 5 đến tháng 9 để việc đặt phòng được như ý, qua đó tăng tính trải nghiệm cho chuyến đi\n",
    "\n",
    "- Với vai trò là khách sạn, cần tìm hiểu nguyên nhân tại sao ở thời điểm đầu năm hay cuối năm, số đơn đặt phòng ít nhưng tỉ lệ đặt phòng như ý là thấp hơn so với khoảng thời gian tháng 7, 8 khi đó số đơn đặt nhiều hơn nhưng tỉ lệ đặt phòng như ý lại cao. Qua đó khách sạn cần cải thiện chất lượng phục vụ khách hàng, tăng tỉ lệ đặt phòng như ý nhằm đảm bảo sự hài lòng của khách hàng ở mức cao nhất\n"
   ]
  },
  {
   "cell_type": "markdown",
   "metadata": {},
   "source": [
    "## IV) KHÁCH HÀNG THÍCH ĐẾN VÀO NGÀY TRONG TUẦN HAY CUỐI TUẦN ?\n"
   ]
  },
  {
   "cell_type": "markdown",
   "metadata": {},
   "source": [
    "### Tạo cột is_weekend: Ngày đến có phải là vào cuối tuần\n"
   ]
  },
  {
   "cell_type": "code",
   "execution_count": null,
   "metadata": {},
   "outputs": [],
   "source": [
    "df[\"week_day\"] = df[\"arrival_date\"].dt.weekday\n",
    "\n",
    "df[\"is_weekend\"] = df[\"week_day\"].isin([5, 6]).astype(\"int\")\n",
    "\n",
    "df[\"is_weekend\"]\n"
   ]
  },
  {
   "cell_type": "markdown",
   "metadata": {},
   "source": [
    "### Tính số đơn đặt theo từng tuần\n"
   ]
  },
  {
   "cell_type": "code",
   "execution_count": null,
   "metadata": {},
   "outputs": [],
   "source": [
    "df[\"week_year\"] = df[\"arrival_date\"].dt.to_period(\"W\")\n",
    "\n",
    "num_order_by_week = df[\"week_year\"].value_counts().sort_index()\n",
    "num_order_by_week\n"
   ]
  },
  {
   "cell_type": "markdown",
   "metadata": {},
   "source": [
    "### Chuyển thành bảng\n"
   ]
  },
  {
   "cell_type": "code",
   "execution_count": null,
   "metadata": {},
   "outputs": [],
   "source": [
    "num_order_by_week = num_order_by_week.to_frame(name=\"count\").reset_index(names=\"week\")\n",
    "\n",
    "num_order_by_week\n"
   ]
  },
  {
   "cell_type": "markdown",
   "metadata": {},
   "source": [
    "### Tính số đơn đặt vào cuối tuần theo từng tuần\n"
   ]
  },
  {
   "cell_type": "code",
   "execution_count": null,
   "metadata": {},
   "outputs": [],
   "source": [
    "df_weekend = df[df[\"is_weekend\"] == 1]\n",
    "\n",
    "num_weekend_order_by_week = df_weekend[\"week_year\"].value_counts().sort_index()\n",
    "num_weekend_order_by_week\n"
   ]
  },
  {
   "cell_type": "markdown",
   "metadata": {},
   "source": [
    "### Chuyển thành bảng\n"
   ]
  },
  {
   "cell_type": "code",
   "execution_count": null,
   "metadata": {},
   "outputs": [],
   "source": [
    "num_weekend_order_by_week = num_weekend_order_by_week.to_frame(\n",
    "    name=\"count\"\n",
    ").reset_index(names=\"week\")\n",
    "\n",
    "num_weekend_order_by_week\n"
   ]
  },
  {
   "cell_type": "markdown",
   "metadata": {},
   "source": [
    "### Gộp lại thành 1 bảng\n"
   ]
  },
  {
   "cell_type": "code",
   "execution_count": null,
   "metadata": {},
   "outputs": [],
   "source": [
    "num_weekend_order_by_week = num_weekend_order_by_week.rename(\n",
    "    columns={\"count\": \"weekend_count\"}\n",
    ")\n",
    "\n",
    "table_by_week = pd.merge(\n",
    "    num_order_by_week, num_weekend_order_by_week, on=\"week\", how=\"left\"\n",
    ")\n",
    "\n",
    "table_by_week\n"
   ]
  },
  {
   "cell_type": "markdown",
   "metadata": {},
   "source": [
    "### Lấp các giá trị nan trong cột weekend_count bằng 0\n"
   ]
  },
  {
   "cell_type": "code",
   "execution_count": null,
   "metadata": {},
   "outputs": [],
   "source": [
    "table_by_week[\"weekend_count\"] = table_by_week[\"weekend_count\"].fillna(0)\n"
   ]
  },
  {
   "cell_type": "markdown",
   "metadata": {},
   "source": [
    "### Tính cột tỉ lệ phần trăm\n"
   ]
  },
  {
   "cell_type": "code",
   "execution_count": null,
   "metadata": {},
   "outputs": [],
   "source": [
    "table_by_week[\"percent\"] = table_by_week[\"weekend_count\"] / table_by_week[\"count\"] * 100\n",
    "table_by_week[\"percent\"] = table_by_week[\"percent\"].round(2)\n",
    "\n",
    "table_by_week\n"
   ]
  },
  {
   "cell_type": "markdown",
   "metadata": {},
   "source": [
    "### Ước lượng khoảng tin cậy cho trung bình tỉ lệ phần trăm đơn được đặt vào cuối tuần trong 1 tuần\n"
   ]
  },
  {
   "cell_type": "code",
   "execution_count": null,
   "metadata": {},
   "outputs": [],
   "source": [
    "ci = stats.bootstrap(\n",
    "    (table_by_week[\"percent\"],),\n",
    "    np.mean,\n",
    "    confidence_level=0.95,\n",
    "    n_resamples=1000000,\n",
    "    method=\"percentile\",\n",
    ").confidence_interval\n",
    "\n",
    "ci = [round(item, 2) for item in ci]\n",
    "\n",
    "ci\n"
   ]
  },
  {
   "cell_type": "markdown",
   "metadata": {},
   "source": [
    "- Ý nghĩa: Như vậy khoảng tin cậy cho tỉ lệ phần trăm đơn được đặt vào cuối tuần trong 1 tuần là 28.26% đến 30.59% hoàn toàn nhỏ hơn 50%, từ đó kết luận khách hàng có xu hướng đặt đơn vào ngày trong tuần từ thứ Hai đến thứ Sáu, điều này giúp khách sạn có thể phân bổ nguồn lực hợp lí hơn, tập trung nhiều hơn vào các ngày trong tuần để phục vụ khách hàng tốt hơn, qua đó tăng sự thỏa mãn của khách hàng đối với dịch vụ của khách sạn.\n"
   ]
  },
  {
   "cell_type": "markdown",
   "metadata": {},
   "source": [
    "## V) KÊNH PHÂN PHỐI NÀO ĐÓNG GÓP DOANH THU NHIỀU NHẤT (TÍNH THEO TỪNG THÁNG, VẼ BIỂU ĐỒ MIỀN)\n"
   ]
  },
  {
   "cell_type": "markdown",
   "metadata": {},
   "source": [
    "### Tính lợi nhuận của từng kênh phân phối theo từng tháng\n"
   ]
  },
  {
   "cell_type": "code",
   "execution_count": null,
   "metadata": {},
   "outputs": [],
   "source": [
    "df_defined_not_canceled = df[\n",
    "    (df[\"distribution_channel\"] != \"Undefined\") & (df[\"is_canceled\"] == 0)\n",
    "]\n",
    "df_defined_not_canceled[\"month\"] = df_defined_not_canceled[\"arrival_date\"].dt.month\n",
    "\n",
    "revenue_by_month = (\n",
    "    df_defined_not_canceled.groupby([\"month\", \"distribution_channel\"])[\"revenue\"]\n",
    "    .sum()\n",
    "    .unstack()\n",
    ")\n",
    "\n",
    "revenue_by_month = revenue_by_month.fillna(0)\n",
    "\n",
    "revenue_by_month\n"
   ]
  },
  {
   "cell_type": "markdown",
   "metadata": {},
   "source": [
    "### Tính tỉ lệ phần trăm lợi nhuận của từng kênh phân phối theo từng tháng\n"
   ]
  },
  {
   "cell_type": "code",
   "execution_count": null,
   "metadata": {},
   "outputs": [],
   "source": [
    "revenue_by_month_pct = (\n",
    "    revenue_by_month.divide(revenue_by_month.sum(axis=1), axis=0) * 100\n",
    ")\n",
    "revenue_by_month_pct\n"
   ]
  },
  {
   "cell_type": "markdown",
   "metadata": {},
   "source": [
    "### Vẽ biểu đồ\n"
   ]
  },
  {
   "cell_type": "code",
   "execution_count": null,
   "metadata": {},
   "outputs": [],
   "source": [
    "revenue_by_month_pct.plot(\n",
    "    kind=\"area\", stacked=True, figsize=(12, 6), colormap=\"viridis\", alpha=0.7\n",
    ")\n",
    "plt.title(\"Tỉ trọng doanh thu của các kênh phân phối qua từng tháng\")\n",
    "plt.gca().yaxis.set_major_formatter(ticker.FuncFormatter(percent))\n",
    "\n",
    "plt.show()\n"
   ]
  },
  {
   "cell_type": "markdown",
   "metadata": {},
   "source": [
    "- Từ biểu đồ, ta kết luận được kênh phân phối TA/TO đóng góp phần lớn tỉ trọng vào doanh thu của khách sạn, như vậy khách sạn cần tập trung đầu tư vào kênh này để thu hút được nhiều khách hàng hơn\n"
   ]
  },
  {
   "cell_type": "markdown",
   "metadata": {},
   "source": [
    "## VI) SO SÁNH TỈ LỆ HỦY ĐƠN GIỮA KHÁCH HÀNG CÓ TIỀN SỬ HỦY ĐƠN VÀ KHÔNG CÓ\n"
   ]
  },
  {
   "cell_type": "markdown",
   "metadata": {},
   "source": [
    "### Tạo thống kê cho khách hàng có tiền sử hủy đơn và không có\n"
   ]
  },
  {
   "cell_type": "code",
   "execution_count": null,
   "metadata": {},
   "outputs": [],
   "source": [
    "df[\"did_cancel\"] = (df[\"previous_cancellations\"] > 0).astype(\"int\")\n",
    "\n",
    "num_order = df.groupby([\"is_canceled\", \"did_cancel\"]).size().unstack()\n",
    "\n",
    "num_order\n"
   ]
  },
  {
   "cell_type": "markdown",
   "metadata": {},
   "source": [
    "### Tính tỉ lệ hủy đơn giữa khách hàng có tiền sử hủy đơn và không có\n"
   ]
  },
  {
   "cell_type": "code",
   "execution_count": null,
   "metadata": {},
   "outputs": [],
   "source": [
    "num_order_t = num_order.T.copy()\n",
    "\n",
    "num_order_t[\"percent\"] = num_order_t[1] / (num_order_t[0] + num_order_t[1]) * 100\n",
    "num_order_t = num_order_t[\"percent\"]\n",
    "num_order_t\n"
   ]
  },
  {
   "cell_type": "markdown",
   "metadata": {},
   "source": [
    "### Thực hiện kiểm định:\n",
    "\n",
    "- H0: tỉ lệ hủy đơn giữa khách hàng có tiền sử hủy đơn = không có\n",
    "- H1: tỉ lệ hủy đơn giữa khách hàng có tiền sử hủy đơn > không có\n"
   ]
  },
  {
   "cell_type": "code",
   "execution_count": null,
   "metadata": {},
   "outputs": [],
   "source": [
    "def get_statistic(x, y):\n",
    "    return np.mean(x) - np.mean(y)\n",
    "\n",
    "\n",
    "list_10_did_cancel_in_past = [1] * num_order.loc[1, 1] + [0] * num_order.loc[0, 1]\n",
    "list_10_not_did_cancel_in_past = [1] * num_order.loc[1, 0] + [0] * num_order.loc[0, 0]\n",
    "\n",
    "p_value = 0\n",
    "\n",
    "for i in range(10):\n",
    "    result = stats.permutation_test(\n",
    "        (list_10_did_cancel_in_past, list_10_not_did_cancel_in_past),\n",
    "        statistic=get_statistic,\n",
    "        n_resamples=10000,\n",
    "        alternative=\"greater\",\n",
    "    ).pvalue\n",
    "\n",
    "    p_value += result\n",
    "\n",
    "p_value = p_value / 10\n",
    "p_value\n"
   ]
  },
  {
   "cell_type": "markdown",
   "metadata": {},
   "source": [
    "- Ý nghĩa: p_value nhỏ hơn alpha nên có cơ sở khằng định tỉ lệ hủy đơn giữa khách hàng có tiền sử hủy đơn lớn hơn khách hàng không có, như vậy khách sạn cần tập trung cải tiến chất lượng phục vụ của mình, xem xét những điểm yếu cần khắc phục để tránh tình trạng khách hàng có tiền sử hủy đơn trước đây vẫn tiếp tục hủy đơn, gây ảnh hưởng đến danh tiếng và doanh thu của khách sạn.\n"
   ]
  },
  {
   "cell_type": "markdown",
   "metadata": {},
   "source": [
    "# Phân tích dữ liệu của khách sạn `City Hotel`\n"
   ]
  },
  {
   "cell_type": "markdown",
   "metadata": {},
   "source": [
    "## Đọc dữ liệu\n"
   ]
  },
  {
   "cell_type": "code",
   "execution_count": null,
   "metadata": {},
   "outputs": [],
   "source": [
    "df = pd.read_csv(\"../Data/Created Data/hotel_bookings_added_revenue_city.csv\")\n",
    "df\n"
   ]
  },
  {
   "cell_type": "markdown",
   "metadata": {},
   "source": [
    "## Chuyển đổi kiểu dữ liệu có yếu tố thời gian thành `datetime`\n"
   ]
  },
  {
   "cell_type": "code",
   "execution_count": null,
   "metadata": {},
   "outputs": [],
   "source": [
    "def change_df(df):\n",
    "    format_year = \"%Y-%m-%d\"\n",
    "\n",
    "    df[\"arrival_date\"] = pd.to_datetime(df[\"arrival_date\"], format=format_year)\n",
    "    df[\"reservation_status_date\"] = pd.to_datetime(\n",
    "        df[\"reservation_status_date\"], format=format_year\n",
    "    )\n",
    "\n",
    "\n",
    "change_df(df)\n"
   ]
  },
  {
   "cell_type": "markdown",
   "metadata": {},
   "source": [
    "## I TỔNG QUAN VỀ TÌNH HÌNH ĐẶT PHÒNG KHÁCH SẠN LOẠI \"CITY\"\n"
   ]
  },
  {
   "cell_type": "markdown",
   "metadata": {},
   "source": [
    "### 1. Tỷ lệ đặt phòng chia theo khách nội địa và quốc tế\n"
   ]
  },
  {
   "cell_type": "code",
   "execution_count": null,
   "metadata": {},
   "outputs": [],
   "source": [
    "hotel_data = df\n",
    "city_hotel_data = hotel_data\n",
    "\n",
    "internal_customers = city_hotel_data[city_hotel_data[\"country\"] == \"PRT\"]\n",
    "foreign_customers = city_hotel_data[city_hotel_data[\"country\"] != \"PRT\"]\n",
    "\n",
    "total_customers = len(city_hotel_data)\n",
    "internal_percentage = len(internal_customers) / total_customers * 100\n",
    "foreign_percentage = len(foreign_customers) / total_customers * 100\n",
    "\n",
    "internal_percentage, foreign_percentage\n"
   ]
  },
  {
   "cell_type": "code",
   "execution_count": null,
   "metadata": {},
   "outputs": [],
   "source": [
    "plt.figure(figsize=(10, 6))\n",
    "plt.pie(\n",
    "    [internal_percentage, foreign_percentage],\n",
    "    labels=[\"Khách trong nước (Bồ Đào Nha)\", \"Khách nước ngoài\"],\n",
    "    autopct=\"%1.1f%%\",\n",
    "    startangle=90,\n",
    ")\n",
    "plt.title(\"Tỉ lệ khách hàng trong nước và nước ngoài đặt khách sạn tại thành phố\")\n",
    "plt.show()\n"
   ]
  },
  {
   "cell_type": "markdown",
   "metadata": {},
   "source": [
    "**Nhận xét**:\n",
    "\n",
    "- Tỉ lệ khách nước ngoài đặt khách sạn loại City chiếm số lượng lớn hơn đáng kể so với khách nội địa (gấp khoảng 3 lần).\n",
    "- Nguyên nhân: khách nước ngoài yêu thích lựa chọn City Hotel vì địa điểm thuận tiện để đi khám phá các địa điểm trong thành phố. Còn với khách nội địa, họ thường chọn các loại khách sạn khác như Resort để trải nghiệm những nơi mới vì họ vốn dĩ đã ở trong thành phố.\n",
    "- Chiến lược cho các khách sạn City:\n"
   ]
  },
  {
   "cell_type": "markdown",
   "metadata": {},
   "source": [
    "### 2. Tỷ lệ khách quốc tế đặt phòng\n"
   ]
  },
  {
   "cell_type": "code",
   "execution_count": null,
   "metadata": {},
   "outputs": [],
   "source": [
    "foreign_nationalities = foreign_customers[\"country\"].value_counts()\n",
    "\n",
    "foreign_nationalities_percentage = (\n",
    "    foreign_nationalities / len(foreign_customers)\n",
    ") * 100\n",
    "\n",
    "# top 10 highest countries\n",
    "top_countries = foreign_nationalities_percentage.head(10)\n",
    "\n",
    "top_countries\n"
   ]
  },
  {
   "cell_type": "code",
   "execution_count": null,
   "metadata": {},
   "outputs": [],
   "source": [
    "# top 10 countries with highest percentage of foreign customers\n",
    "plt.figure(figsize=(10, 6))\n",
    "top_10_countries = top_countries.sort_values(ascending=True).tail(10)\n",
    "top_10_countries.sort_values().plot(kind=\"barh\", color=\"skyblue\", edgecolor=\"black\")\n",
    "\n",
    "mapping = {\n",
    "    \"GBR\": \"United Kingdom\",\n",
    "    \"FRA\": \"France\",\n",
    "    \"DEU\": \"Germany\",\n",
    "    \"ESP\": \"Spain\",\n",
    "    \"ITA\": \"Italy\",\n",
    "    \"IRL\": \"Ireland\",\n",
    "    \"BEL\": \"Belgium\",\n",
    "    \"BRA\": \"Brazil\",\n",
    "    \"NLD\": \"Netherlands\",\n",
    "    \"USA\": \"United States\",\n",
    "    \"CHE\": \"Switzerland\",\n",
    "}\n",
    "plt.yticks(\n",
    "    ticks=range(10),\n",
    "    labels=[mapping.get(country, country) for country in top_10_countries.index],\n",
    ")\n",
    "\n",
    "plt.title(\"Top 10 quốc gia có lượng du khách đặt City Hotel cao nhất\", fontsize=14)\n",
    "plt.xlabel(\"Tỉ lệ (%)\", fontsize=12)\n",
    "plt.ylabel(\"Quốc gia\", fontsize=12)\n",
    "plt.grid(axis=\"x\", linestyle=\"--\", alpha=0.7)\n",
    "plt.tight_layout()\n",
    "\n",
    "plt.show()\n"
   ]
  },
  {
   "cell_type": "markdown",
   "metadata": {},
   "source": [
    "**Nhận xét**:\n"
   ]
  },
  {
   "cell_type": "markdown",
   "metadata": {},
   "source": [
    "### 3. Doanh thu phân theo loại khách đặt phòng\n"
   ]
  },
  {
   "cell_type": "code",
   "execution_count": null,
   "metadata": {},
   "outputs": [],
   "source": [
    "# raw number of bookings and percentages\n",
    "total_bookings = city_hotel_data[\"customer_type\"].value_counts()\n",
    "percentage_bookings = (total_bookings / total_bookings.sum()) * 100\n",
    "\n",
    "# total revenue (raw amount) and percentages\n",
    "total_revenue = city_hotel_data.groupby(\"customer_type\")[\"revenue\"].sum()\n",
    "percentage_revenue = (total_revenue / total_revenue.sum()) * 100\n",
    "\n",
    "# all insights into a DataFrame for comparison\n",
    "detailed_customer_analysis = pd.DataFrame(\n",
    "    {\n",
    "        \"Tổng số đơn đặt\": total_bookings,\n",
    "        \"Tỷ lệ đơn đặt\": percentage_bookings,\n",
    "        \"total_revenue\": total_revenue,\n",
    "        \"Tỷ lệ revenue\": percentage_revenue,\n",
    "    }\n",
    ").sort_values(by=\"total_revenue\", ascending=False)\n",
    "\n",
    "detailed_customer_analysis\n"
   ]
  },
  {
   "cell_type": "markdown",
   "metadata": {},
   "source": [
    "**Nhận xét**: số lượng đơn đặt hàng nhiều cũng góp phần tăng trưởng doanh thu....\n"
   ]
  },
  {
   "cell_type": "code",
   "execution_count": null,
   "metadata": {},
   "outputs": [],
   "source": [
    "fig, ax1 = plt.subplots(figsize=(10, 6))\n",
    "\n",
    "x = range(len(detailed_customer_analysis))\n",
    "bar_width = 0.4\n",
    "ax1.bar(\n",
    "    x,\n",
    "    detailed_customer_analysis[\"Tổng số đơn đặt\"],\n",
    "    bar_width,\n",
    "    color=\"blue\",\n",
    "    alpha=0.7,\n",
    "    label=\"Total Bookings\",\n",
    ")\n",
    "ax1.set_ylabel(\"Total Bookings\", color=\"blue\", fontsize=12)\n",
    "ax1.tick_params(axis=\"y\", labelcolor=\"blue\")\n",
    "\n",
    "ax2 = ax1.twinx()\n",
    "ax2.bar(\n",
    "    [p + bar_width for p in x],\n",
    "    detailed_customer_analysis[\"total_revenue\"],\n",
    "    bar_width,\n",
    "    color=\"green\",\n",
    "    alpha=0.7,\n",
    "    label=\"Total Revenue\",\n",
    ")\n",
    "ax2.set_ylabel(\"Total Revenue\", color=\"green\", fontsize=12)\n",
    "ax2.tick_params(axis=\"y\", labelcolor=\"green\")\n",
    "\n",
    "ax1.set_xlabel(\"Customer Type\", fontsize=12)\n",
    "ax1.set_xticks([p + bar_width / 2 for p in x])\n",
    "ax1.set_xticklabels(detailed_customer_analysis.index)\n",
    "fig.legend(loc=\"upper right\", bbox_to_anchor=(0.85, 0.9), fontsize=10)\n",
    "plt.title(\"Total Bookings vs Total Revenue (Dual Y-Axes)\", fontsize=14)\n",
    "plt.tight_layout()\n",
    "plt.show()\n"
   ]
  },
  {
   "cell_type": "code",
   "execution_count": null,
   "metadata": {},
   "outputs": [],
   "source": [
    "# draw pie chart for percentage of bookings and revenue\n",
    "fig, ax = plt.subplots(1, 2, figsize=(14, 6))\n",
    "\n",
    "ax[0].pie(\n",
    "    detailed_customer_analysis[\"Tỷ lệ đơn đặt\"],\n",
    "    labels=detailed_customer_analysis.index,\n",
    "    autopct=\"%1.1f%%\",\n",
    "    startangle=45,\n",
    ")\n",
    "ax[0].set_title(\"Percentage Bookings by Customer Type\")\n",
    "\n",
    "\n",
    "ax[1].pie(\n",
    "    detailed_customer_analysis[\"Tỷ lệ revenue\"],\n",
    "    labels=detailed_customer_analysis.index,\n",
    "    autopct=\"%1.1f%%\",\n",
    "    startangle=45,\n",
    ")\n",
    "ax[1].set_title(\"Percentage Revenue by Customer Type\")\n",
    "\n",
    "plt.tight_layout()\n",
    "plt.show()\n"
   ]
  },
  {
   "cell_type": "markdown",
   "metadata": {},
   "source": [
    "### 4. Thời điểm có lượng khách đến khách sạn đông nhất\n"
   ]
  },
  {
   "cell_type": "code",
   "execution_count": null,
   "metadata": {},
   "outputs": [],
   "source": [
    "import seaborn as sns\n",
    "import matplotlib.pyplot as plt\n",
    "\n",
    "# Filter only City Hotel data\n",
    "data = df\n",
    "# Filter only City Hotel data\n",
    "city_hotel_data = data[data[\"hotel\"] == \"City Hotel\"]\n",
    "\n",
    "# Convert 'arrival_date' to datetime\n",
    "city_hotel_data[\"arrival_date\"] = pd.to_datetime(city_hotel_data[\"arrival_date\"])\n",
    "\n",
    "# Extract month and day\n",
    "city_hotel_data[\"arrival_month\"] = city_hotel_data[\"arrival_date\"].dt.month\n",
    "city_hotel_data[\"arrival_day\"] = city_hotel_data[\"arrival_date\"].dt.day\n",
    "\n",
    "# Group by month and day to calculate the number of visitors\n",
    "heatmap_data = (\n",
    "    city_hotel_data.groupby([\"arrival_month\", \"arrival_day\"])\n",
    "    .size()\n",
    "    .reset_index(name=\"visitor_count\")\n",
    ")\n",
    "\n",
    "# Create a pivot table for heatmap\n",
    "heatmap_pivot = heatmap_data.pivot_table(\n",
    "    index=\"arrival_day\", columns=\"arrival_month\", values=\"visitor_count\", fill_value=0\n",
    ")\n",
    "\n",
    "# Plot heatmap\n",
    "plt.figure(figsize=(12, 8))\n",
    "sns.heatmap(\n",
    "    heatmap_pivot,\n",
    "    cmap=\"YlOrRd\",\n",
    "    annot=False,\n",
    "    cbar_kws={\"label\": \"Số lượng du khách đặt phòng\"},\n",
    ")\n",
    "plt.title(\"Heatmap cho số lượng khách đặt phòng theo ngày\", fontsize=16)\n",
    "plt.xlabel(\"Tháng\", fontsize=12)\n",
    "plt.ylabel(\"Ngày\", fontsize=12)\n",
    "plt.xticks(\n",
    "    ticks=range(12),\n",
    "    labels=[\n",
    "        \"Jan\",\n",
    "        \"Feb\",\n",
    "        \"Mar\",\n",
    "        \"Apr\",\n",
    "        \"May\",\n",
    "        \"Jun\",\n",
    "        \"Jul\",\n",
    "        \"Aug\",\n",
    "        \"Sep\",\n",
    "        \"Oct\",\n",
    "        \"Nov\",\n",
    "        \"Dec\",\n",
    "    ],\n",
    "    rotation=45,\n",
    ")\n",
    "plt.tight_layout()\n",
    "plt.show()\n"
   ]
  },
  {
   "cell_type": "markdown",
   "metadata": {},
   "source": [
    "**Nhận xét**:\n",
    "Thời điểm tháng 8 và tháng 7 khách hàng ưa đến nhất và cũng là thời điểm tỉ lệ hủy đơn nhìn chung cao hơn với các tháng khác\n",
    "\n",
    "Ý nghĩa: Thời điểm thích hợp để đến khách sạn nên cân nhắc tránh tháng 8 và tháng 7 vì đó là thời điểm khách sạn khá đông khách nên chất lượng có thể bị giảm đi nhiều so với khi ít khách\n",
    "\n",
    "- Lý do\n",
    "- Đề xuất\n"
   ]
  },
  {
   "cell_type": "markdown",
   "metadata": {},
   "source": [
    "## II) KHÁCH NỘI ĐỊA HAY KHÁCH QUỐC TẾ CÓ TỈ LỆ HỦY ĐƠN CAO HƠN ?\n"
   ]
  },
  {
   "cell_type": "markdown",
   "metadata": {},
   "source": [
    "### Vẽ biểu đồ thể hiện tỉ lệ hủy đơn qua các quý của khách nội địa và khách quốc tế\n"
   ]
  },
  {
   "cell_type": "markdown",
   "metadata": {},
   "source": [
    "#### Tính số đơn hủy qua các quý của khách nội địa và khách quốc tế\n"
   ]
  },
  {
   "cell_type": "code",
   "execution_count": null,
   "metadata": {},
   "outputs": [],
   "source": [
    "df[\"quarter_year\"] = df[\"arrival_date\"].dt.to_period(\"Q\")\n",
    "df[\"is_domestic\"] = df[\"country\"] == \"PRT\"\n",
    "\n",
    "\n",
    "df_canceled = df[df[\"is_canceled\"] == 1]\n",
    "\n",
    "num_canceled_order = (\n",
    "    df_canceled.groupby([\"is_domestic\", \"quarter_year\"]).size().unstack()\n",
    ")\n",
    "\n",
    "num_canceled_order\n"
   ]
  },
  {
   "cell_type": "markdown",
   "metadata": {},
   "source": [
    "#### Tính số đơn đã đặt qua các qúy của khách nội địa và khách quốc tế\n"
   ]
  },
  {
   "cell_type": "code",
   "execution_count": null,
   "metadata": {},
   "outputs": [],
   "source": [
    "num_order = df.groupby([\"is_domestic\", \"quarter_year\"]).size().unstack()\n",
    "\n",
    "num_order\n"
   ]
  },
  {
   "cell_type": "markdown",
   "metadata": {},
   "source": [
    "#### Tỉ lệ hủy đơn qua các quý của khách nội địa và khách quốc tế\n"
   ]
  },
  {
   "cell_type": "code",
   "execution_count": null,
   "metadata": {},
   "outputs": [],
   "source": [
    "cancel_ratio = num_canceled_order / num_order * 100\n",
    "\n",
    "cancel_ratio = cancel_ratio.round(2)\n",
    "\n",
    "cancel_ratio\n"
   ]
  },
  {
   "cell_type": "markdown",
   "metadata": {},
   "source": [
    "#### Chuyển vị lại bảng\n"
   ]
  },
  {
   "cell_type": "code",
   "execution_count": null,
   "metadata": {},
   "outputs": [],
   "source": [
    "cancel_ratio = cancel_ratio.T\n",
    "\n",
    "cancel_ratio\n"
   ]
  },
  {
   "cell_type": "markdown",
   "metadata": {},
   "source": [
    "#### Đổi tên cột và reset index\n"
   ]
  },
  {
   "cell_type": "code",
   "execution_count": null,
   "metadata": {},
   "outputs": [],
   "source": [
    "cancel_ratio = cancel_ratio.rename(columns={False: \"international\", True: \"domestic\"})\n",
    "\n",
    "cancel_ratio = cancel_ratio.reset_index(names=\"quarter_year\")\n",
    "\n",
    "cancel_ratio.columns\n"
   ]
  },
  {
   "cell_type": "markdown",
   "metadata": {},
   "source": [
    "#### Vẽ biểu đồ\n"
   ]
  },
  {
   "cell_type": "code",
   "execution_count": null,
   "metadata": {},
   "outputs": [],
   "source": [
    "def percent(x, pos):\n",
    "    return f\"{x:.0f}%\"\n",
    "\n",
    "\n",
    "cancel_ratio[\"quarter_year_tst\"] = cancel_ratio[\"quarter_year\"].dt.to_timestamp()\n",
    "\n",
    "\n",
    "plt.figure(figsize=(10, 6))\n",
    "plt.plot(\n",
    "    cancel_ratio[\"quarter_year_tst\"],\n",
    "    cancel_ratio[\"international\"],\n",
    "    label=\"international\",\n",
    "    marker=\"^\",\n",
    "    color=\"gray\",\n",
    ")\n",
    "plt.plot(\n",
    "    cancel_ratio[\"quarter_year_tst\"],\n",
    "    cancel_ratio[\"domestic\"],\n",
    "    label=\"domestic\",\n",
    "    marker=\"o\",\n",
    "    color=\"blue\",\n",
    ")\n",
    "\n",
    "\n",
    "plt.title(\"Tỉ lệ hủy đơn theo từng quý của khách nội địa và quốc tế\")\n",
    "plt.grid(axis=\"y\")\n",
    "plt.ylabel(\"Tỉ lệ\")\n",
    "plt.xlabel(\"Quý\")\n",
    "plt.gca().yaxis.set_major_formatter(ticker.FuncFormatter(percent))\n",
    "plt.legend()\n",
    "plt.show()\n"
   ]
  },
  {
   "cell_type": "markdown",
   "metadata": {},
   "source": [
    "- Từ biểu đồ nhận thấy tỉ lệ hủy đơn qua các quý của khách nội địa cao hơn so với khách quốc tế\n"
   ]
  },
  {
   "cell_type": "markdown",
   "metadata": {},
   "source": [
    "### Thực hiện kiểm định như sau:\n",
    "\n",
    "- H0: Trung bình tỉ lệ hủy đơn trong 1 tuần của khách nội địa và quốc tế là như nhau\n",
    "- H1: Trung bình tỉ lệ hủy đơn trong 1 tuần của khách nội địa lớn hơn khách quốc tế\n",
    "- alpha = 0.05\n",
    "\n",
    "- Lí do chọn 1 tuần mà không phải 1 tháng hay quý: để khảo sát ở khoảng thời gian hẹp hơn khi đó có nhiều mẫu để thực hiện kiểm định\n"
   ]
  },
  {
   "cell_type": "markdown",
   "metadata": {},
   "source": [
    "#### Tính số đơn hủy qua các tuần của khách nội địa và khách quốc tế\n"
   ]
  },
  {
   "cell_type": "code",
   "execution_count": null,
   "metadata": {},
   "outputs": [],
   "source": [
    "df[\"week_year\"] = df[\"arrival_date\"].dt.to_period(\"W\")\n",
    "\n",
    "df_canceled = df[df[\"is_canceled\"] == 1]\n",
    "\n",
    "num_canceled_order = df_canceled.groupby([\"is_domestic\", \"week_year\"]).size().unstack()\n",
    "\n",
    "num_canceled_order = num_canceled_order.fillna(0)\n",
    "\n",
    "\n",
    "num_canceled_order\n"
   ]
  },
  {
   "cell_type": "markdown",
   "metadata": {},
   "source": [
    "#### Tính số đơn qua các tuần của khách nội địa và khách quốc tế\n"
   ]
  },
  {
   "cell_type": "code",
   "execution_count": null,
   "metadata": {},
   "outputs": [],
   "source": [
    "num_order = df.groupby([\"is_domestic\", \"week_year\"]).size().unstack()\n",
    "\n",
    "num_order = num_order.fillna(0)\n",
    "\n",
    "num_order\n"
   ]
  },
  {
   "cell_type": "markdown",
   "metadata": {},
   "source": [
    "#### Tỉ lệ hủy đơn qua các tuần của khách nội địa và khách quốc tế\n"
   ]
  },
  {
   "cell_type": "code",
   "execution_count": null,
   "metadata": {},
   "outputs": [],
   "source": [
    "cancel_ratio = num_canceled_order / num_order * 100\n",
    "\n",
    "cancel_ratio = cancel_ratio.round(2)\n",
    "\n",
    "cancel_ratio\n"
   ]
  },
  {
   "cell_type": "markdown",
   "metadata": {},
   "source": [
    "#### Kiểm tra có giá trị nan không\n"
   ]
  },
  {
   "cell_type": "code",
   "execution_count": null,
   "metadata": {},
   "outputs": [],
   "source": [
    "null_values = cancel_ratio.applymap(lambda x: pd.isnull(x)).stack()\n",
    "\n",
    "\n",
    "null_values = null_values[null_values]\n",
    "\n",
    "null_values\n"
   ]
  },
  {
   "cell_type": "markdown",
   "metadata": {},
   "source": [
    "- Lí do có giá trị nan là tại thời điểm đó, không có đơn đặt nên mẫu không tồn tại\n"
   ]
  },
  {
   "cell_type": "markdown",
   "metadata": {},
   "source": [
    "#### Tiến hành bỏ mẫu không hợp lệ đi\n"
   ]
  },
  {
   "cell_type": "code",
   "execution_count": null,
   "metadata": {},
   "outputs": [],
   "source": [
    "def drop_na_in_list(lst):\n",
    "    lst = pd.Series(lst)\n",
    "    lst = lst.dropna()\n",
    "    return list(lst)\n",
    "\n",
    "\n",
    "cancel_ratio = cancel_ratio.apply(lambda x: x.tolist(), axis=1)\n",
    "\n",
    "cancel_ratio = cancel_ratio.apply(lambda x: drop_na_in_list(x))\n",
    "\n",
    "cancel_ratio\n"
   ]
  },
  {
   "cell_type": "markdown",
   "metadata": {},
   "source": [
    "#### Tính trung bình tỉ lệ hủy đơn trong 1 tuần của khách nội địa và khách quốc tế\n"
   ]
  },
  {
   "cell_type": "code",
   "execution_count": null,
   "metadata": {},
   "outputs": [],
   "source": [
    "mean_by_origin = cancel_ratio.apply(lambda x: np.mean(x))\n",
    "mean_by_origin\n"
   ]
  },
  {
   "cell_type": "markdown",
   "metadata": {},
   "source": [
    "#### Tạo hàm tính thống kê kiểm định\n"
   ]
  },
  {
   "cell_type": "code",
   "execution_count": null,
   "metadata": {},
   "outputs": [],
   "source": [
    "def get_statistic(sample_a, sample_b):\n",
    "    return np.mean(sample_a) - np.mean(sample_b)\n"
   ]
  },
  {
   "cell_type": "markdown",
   "metadata": {},
   "source": [
    "#### Thực hiện kiểm định bằng permutation test\n"
   ]
  },
  {
   "cell_type": "code",
   "execution_count": null,
   "metadata": {},
   "outputs": [],
   "source": [
    "p_value = stats.permutation_test(\n",
    "    (cancel_ratio[True], cancel_ratio[False]),\n",
    "    statistic=get_statistic,\n",
    "    n_resamples=1000000,\n",
    "    alternative=\"greater\",\n",
    ").pvalue\n",
    "\n",
    "p_value\n"
   ]
  },
  {
   "cell_type": "markdown",
   "metadata": {},
   "source": [
    "- Giá trị p_value < 0.05 nên có cơ sở khẳng định trung bình tỉ lệ hủy đơn trong 1 tuần của khách nội địa lớn hơn khách quốc tế\n",
    "\n",
    "- Từ biểu đồ tỉ lệ hủy đơn theo quý và kết quả kiểm định như trên, có thể khẳng định rằng khách nội địa có xu hướng hủy đơn nhiều hơn so với khách quốc tế\n",
    "\n",
    "- Ý nghĩa: Việc khách nội địa có xu hướng hủy đơn nhiều hơn chứng tỏ dịch vụ của khách sạn vẫn chưa thực sự tốt, chính vì vậy, khách sạn cần cải thiện chất lượng dịch vụ để đáp ứng với yêu cầu của khách nội địa tốt hơn, vì thị trường nội địa đóng vai trò quan trọng trong sự phát triển của khách sạn.\n"
   ]
  },
  {
   "cell_type": "markdown",
   "metadata": {},
   "source": [
    "## III) THỜI ĐIỂM NÀO KHÁCH HÀNG CÓ KHẢ NĂNG ĐẶT PHÒNG NHƯ Ý NHIỀU NHẤT (ƯỚC LƯỢNG THÁNG ĐỘ TIN CẬY 95%)\n"
   ]
  },
  {
   "cell_type": "markdown",
   "metadata": {},
   "source": [
    "### Tính số đơn như ý theo từng tháng\n"
   ]
  },
  {
   "cell_type": "code",
   "execution_count": null,
   "metadata": {},
   "outputs": [],
   "source": [
    "df[\"month\"] = df[\"arrival_date\"].dt.month\n",
    "\n",
    "df_assign_like_order = df[df[\"assigned_room_type\"] == df[\"reserved_room_type\"]]\n",
    "\n",
    "num_order_assign_like_order_by_month = (\n",
    "    df_assign_like_order[\"month\"].value_counts().sort_index()\n",
    ")\n",
    "\n",
    "num_order_assign_like_order_by_month\n"
   ]
  },
  {
   "cell_type": "markdown",
   "metadata": {},
   "source": [
    "### Tính số đơn theo từng tháng\n"
   ]
  },
  {
   "cell_type": "code",
   "execution_count": null,
   "metadata": {},
   "outputs": [],
   "source": [
    "num_order_by_month = df[\"month\"].value_counts().sort_index()\n",
    "\n",
    "num_order_by_month\n"
   ]
  },
  {
   "cell_type": "markdown",
   "metadata": {},
   "source": [
    "### Tỉ lệ phần trăm đơn đặt được như ý theo từng tháng\n"
   ]
  },
  {
   "cell_type": "code",
   "execution_count": null,
   "metadata": {},
   "outputs": [],
   "source": [
    "percent_num_order_assign_like_order_by_month = (\n",
    "    num_order_assign_like_order_by_month / num_order_by_month * 100\n",
    ")\n",
    "percent_num_order_assign_like_order_by_month = (\n",
    "    percent_num_order_assign_like_order_by_month.round(2)\n",
    ")\n",
    "\n",
    "\n",
    "percent_num_order_assign_like_order_by_month\n"
   ]
  },
  {
   "cell_type": "markdown",
   "metadata": {},
   "source": [
    "### Gộp lại thành bảng\n"
   ]
  },
  {
   "cell_type": "code",
   "execution_count": null,
   "metadata": {},
   "outputs": [],
   "source": [
    "num_order_assign_like_order_by_month = num_order_assign_like_order_by_month.to_frame(\n",
    "    name=\"num_order_assign_like_order\"\n",
    ")\n",
    "num_order_by_month = num_order_by_month.to_frame(name=\"num_order\")\n",
    "percent_num_order_assign_like_order_by_month = (\n",
    "    percent_num_order_assign_like_order_by_month.to_frame(name=\"percent\")\n",
    ")\n",
    "\n",
    "table = pd.concat(\n",
    "    [\n",
    "        num_order_assign_like_order_by_month,\n",
    "        num_order_by_month,\n",
    "        percent_num_order_assign_like_order_by_month,\n",
    "    ],\n",
    "    axis=1,\n",
    ")\n",
    "\n",
    "table\n"
   ]
  },
  {
   "cell_type": "markdown",
   "metadata": {},
   "source": [
    "### Tìm khoảng tin cậy cho tỉ lệ đơn như ý theo từng tháng\n"
   ]
  },
  {
   "cell_type": "markdown",
   "metadata": {},
   "source": [
    "#### Tìm số đơn đặt không như ý theo từng tháng\n"
   ]
  },
  {
   "cell_type": "code",
   "execution_count": null,
   "metadata": {},
   "outputs": [],
   "source": [
    "table[\"num_order_assign_not_like_order\"] = (\n",
    "    table[\"num_order\"] - table[\"num_order_assign_like_order\"]\n",
    ")\n"
   ]
  },
  {
   "cell_type": "markdown",
   "metadata": {},
   "source": [
    "#### Tạo danh sách gồm 2 số 1 và 0, 1: như ý và 0: không như ý\n"
   ]
  },
  {
   "cell_type": "code",
   "execution_count": null,
   "metadata": {},
   "outputs": [],
   "source": [
    "# 1: đơn được như ý và 0: là không như ý\n",
    "list_1_by_month = table[\"num_order_assign_like_order\"].apply(lambda x: [1] * x)\n",
    "list_0_by_month = table[\"num_order_assign_not_like_order\"].apply(lambda x: [0] * x)\n",
    "\n",
    "list_1_and_0_by_month = list_1_by_month + list_0_by_month\n",
    "\n",
    "list_1_and_0_by_month\n"
   ]
  },
  {
   "cell_type": "markdown",
   "metadata": {},
   "source": [
    "#### Thực hiện ước lượng khoảng tin cậy cho tỉ lệ đặt đơn như ý trong từng tháng\n"
   ]
  },
  {
   "cell_type": "code",
   "execution_count": null,
   "metadata": {},
   "outputs": [],
   "source": [
    "def get_ci_for_ratio(sample):\n",
    "    res = stats.bootstrap(\n",
    "        (sample,), np.mean, confidence_level=0.95, n_resamples=100000\n",
    "    ).confidence_interval\n",
    "\n",
    "    res = [round(item * 100, 2) for item in res]\n",
    "\n",
    "    return res\n",
    "\n",
    "\n",
    "ci_for_ratio_by_month = list_1_and_0_by_month.apply(lambda x: get_ci_for_ratio(x))\n",
    "\n",
    "ci_for_ratio_by_month\n"
   ]
  },
  {
   "cell_type": "markdown",
   "metadata": {},
   "source": [
    "#### Tổng hợp vào trong bảng\n"
   ]
  },
  {
   "cell_type": "code",
   "execution_count": null,
   "metadata": {},
   "outputs": [],
   "source": [
    "table[\"lower_ratio_bound\"] = ci_for_ratio_by_month.apply(lambda x: x[0])\n",
    "table[\"upper_ratio_bound\"] = ci_for_ratio_by_month.apply(lambda x: x[1])\n",
    "\n",
    "table\n"
   ]
  },
  {
   "cell_type": "markdown",
   "metadata": {},
   "source": [
    "### Vẽ biểu đồ minh họa cho khoảng tin cậy 95% tỉ lệ đặt đơn như ý theo từng tháng và biểu đồ số đơn đặt theo từng tháng\n"
   ]
  },
  {
   "cell_type": "code",
   "execution_count": null,
   "metadata": {},
   "outputs": [],
   "source": [
    "def percent(x, pos):\n",
    "    return f\"{x:.0f}%\"\n",
    "\n",
    "\n",
    "fig, axes = plt.subplots(nrows=1, ncols=2, figsize=(15, 5))\n",
    "\n",
    "# Vẽ biểu đồ khoảng tin cậy cho tỉ lệ\n",
    "ax = axes[0]\n",
    "ax.plot(\n",
    "    table.index, table[\"lower_ratio_bound\"], marker=\"^\", label=\"lower 95%\", color=\"grey\"\n",
    ")\n",
    "ax.plot(\n",
    "    table.index, table[\"upper_ratio_bound\"], marker=\"o\", label=\"upper 95%\", color=\"cyan\"\n",
    ")\n",
    "\n",
    "\n",
    "ax.set_xticks(table.index)\n",
    "ax.set_xlabel(\"Tháng\")\n",
    "ax.set_ylabel(\"Tỉ lệ\")\n",
    "ax.set_title(\"Khoảng tin cậy 95% cho tỉ lệ đặt được phòng như ý\")\n",
    "ax.legend()\n",
    "ax.grid(axis=\"y\")\n",
    "ax.set_ylim(60, 100)\n",
    "ax.yaxis.set_major_formatter(ticker.FuncFormatter(percent))\n",
    "\n",
    "# Vẽ biểu đồ số đơn đặt theo từng tháng\n",
    "ax = axes[1]\n",
    "ax.plot(table.index, table[\"num_order\"], marker=\"o\", color=\"blue\")\n",
    "\n",
    "ax.set_xticks(table.index)\n",
    "ax.set_xlabel(\"Tháng\")\n",
    "ax.set_ylabel(\"Đơn\")\n",
    "ax.set_title(\"Số đơn đặt theo từng tháng\")\n",
    "ax.grid(axis=\"y\")\n",
    "\n",
    "plt.show()\n"
   ]
  },
  {
   "cell_type": "markdown",
   "metadata": {},
   "source": [
    "- Từ biểu đồ, ta thấy khả năng đặt được phòng như ý từ tháng 1 đến tháng 8 khá ổn định quanh mức 90%, khá ấn tượng, còn đối với khoảng thời gian cuối năm khả năng đặt được phòng nhìn chung giảm, điều này chứng tỏ với vai trò là khách hàng, nên xem xét việc đặt khách sạn ở khoảng thời gian đầu năm để việc đặt phòng được như ý, qua đó tăng tính trải nghiệm cho chuyến đi\n",
    "\n",
    "- Với vai trò là khách sạn, cần tìm hiểu nguyên nhân tại sao ở thời điểm cuối năm, số đơn đặt phòng ít nhưng tỉ lệ đặt phòng như ý là thấp hơn so với khoảng thời gian trước đó, đặc biệt tháng 6, 7, 8 khi đó số đơn đặt nhiều hơn nhưng tỉ lệ đặt phòng như ý lại cao. Qua đó khách sạn cần cải thiện chất lượng phục vụ khách hàng, tăng tỉ lệ đặt phòng như ý nhằm đảm bảo sự hài lòng của khách hàng ở mức cao nhất\n"
   ]
  },
  {
   "cell_type": "markdown",
   "metadata": {},
   "source": [
    "## IV) KHÁCH HÀNG THÍCH ĐẾN VÀO NGÀY TRONG TUẦN HAY CUỐI TUẦN ?\n"
   ]
  },
  {
   "cell_type": "markdown",
   "metadata": {},
   "source": [
    "### Tạo cột is_weekend: Ngày đến có phải là vào cuối tuần\n"
   ]
  },
  {
   "cell_type": "code",
   "execution_count": null,
   "metadata": {},
   "outputs": [],
   "source": [
    "df[\"week_day\"] = df[\"arrival_date\"].dt.weekday\n",
    "\n",
    "df[\"is_weekend\"] = df[\"week_day\"].isin([5, 6]).astype(\"int\")\n",
    "\n",
    "df[\"is_weekend\"]\n"
   ]
  },
  {
   "cell_type": "markdown",
   "metadata": {},
   "source": [
    "### Tính số đơn đặt theo từng tuần\n"
   ]
  },
  {
   "cell_type": "code",
   "execution_count": null,
   "metadata": {},
   "outputs": [],
   "source": [
    "df[\"week_year\"] = df[\"arrival_date\"].dt.to_period(\"W\")\n",
    "\n",
    "num_order_by_week = df[\"week_year\"].value_counts().sort_index()\n",
    "num_order_by_week\n"
   ]
  },
  {
   "cell_type": "markdown",
   "metadata": {},
   "source": [
    "### Chuyển thành bảng\n"
   ]
  },
  {
   "cell_type": "code",
   "execution_count": null,
   "metadata": {},
   "outputs": [],
   "source": [
    "num_order_by_week = num_order_by_week.to_frame(name=\"count\").reset_index(names=\"week\")\n",
    "\n",
    "num_order_by_week\n"
   ]
  },
  {
   "cell_type": "markdown",
   "metadata": {},
   "source": [
    "### Tính số đơn đặt vào cuối tuần theo từng tuần\n"
   ]
  },
  {
   "cell_type": "code",
   "execution_count": null,
   "metadata": {},
   "outputs": [],
   "source": [
    "df_weekend = df[df[\"is_weekend\"] == 1]\n",
    "\n",
    "num_weekend_order_by_week = df_weekend[\"week_year\"].value_counts().sort_index()\n",
    "num_weekend_order_by_week\n"
   ]
  },
  {
   "cell_type": "markdown",
   "metadata": {},
   "source": [
    "### Chuyển thành bảng\n"
   ]
  },
  {
   "cell_type": "code",
   "execution_count": null,
   "metadata": {},
   "outputs": [],
   "source": [
    "num_weekend_order_by_week = num_weekend_order_by_week.to_frame(\n",
    "    name=\"count\"\n",
    ").reset_index(names=\"week\")\n",
    "\n",
    "num_weekend_order_by_week\n"
   ]
  },
  {
   "cell_type": "markdown",
   "metadata": {},
   "source": [
    "### Gộp lại thành 1 bảng\n"
   ]
  },
  {
   "cell_type": "code",
   "execution_count": null,
   "metadata": {},
   "outputs": [],
   "source": [
    "num_weekend_order_by_week = num_weekend_order_by_week.rename(\n",
    "    columns={\"count\": \"weekend_count\"}\n",
    ")\n",
    "\n",
    "table_by_week = pd.merge(\n",
    "    num_order_by_week, num_weekend_order_by_week, on=\"week\", how=\"left\"\n",
    ")\n",
    "\n",
    "table_by_week\n"
   ]
  },
  {
   "cell_type": "markdown",
   "metadata": {},
   "source": [
    "### Lấp các giá trị nan trong cột weekend_count bằng 0\n"
   ]
  },
  {
   "cell_type": "code",
   "execution_count": null,
   "metadata": {},
   "outputs": [],
   "source": [
    "table_by_week[\"weekend_count\"] = table_by_week[\"weekend_count\"].fillna(0)\n"
   ]
  },
  {
   "cell_type": "markdown",
   "metadata": {},
   "source": [
    "### Tính cột tỉ lệ phần trăm\n"
   ]
  },
  {
   "cell_type": "code",
   "execution_count": null,
   "metadata": {},
   "outputs": [],
   "source": [
    "table_by_week[\"percent\"] = table_by_week[\"weekend_count\"] / table_by_week[\"count\"] * 100\n",
    "table_by_week[\"percent\"] = table_by_week[\"percent\"].round(2)\n",
    "\n",
    "table_by_week\n"
   ]
  },
  {
   "cell_type": "markdown",
   "metadata": {},
   "source": [
    "### Ước lượng khoảng tin cậy cho trung bình tỉ lệ phần trăm đơn được đặt vào cuối tuần trong 1 tuần\n"
   ]
  },
  {
   "cell_type": "code",
   "execution_count": null,
   "metadata": {},
   "outputs": [],
   "source": [
    "ci = stats.bootstrap(\n",
    "    (table_by_week[\"percent\"],),\n",
    "    np.mean,\n",
    "    confidence_level=0.95,\n",
    "    n_resamples=1000000,\n",
    "    method=\"percentile\",\n",
    ").confidence_interval\n",
    "\n",
    "ci = [round(item, 2) for item in ci]\n",
    "\n",
    "ci\n"
   ]
  },
  {
   "cell_type": "markdown",
   "metadata": {},
   "source": [
    "- Ý nghĩa: Như vậy khoảng tin cậy cho tỉ lệ phần trăm đơn được đặt vào cuối tuần trong 1 tuần là hoàn toàn nhỏ hơn 50%, từ đó kết luận khách hàng có xu hướng đặt đơn vào ngày trong tuần từ thứ Hai đến thứ Sáu, điều này giúp khách sạn có thể phân bổ nguồn lực hợp lí hơn, tập trung nhiều hơn vào các ngày trong tuần để phục vụ khách hàng tốt hơn, qua đó tăng sự thỏa mãn của khách hàng đối với dịch vụ của khách sạn.\n"
   ]
  },
  {
   "cell_type": "markdown",
   "metadata": {},
   "source": [
    "## V) KÊNH PHÂN PHỐI NÀO ĐÓNG GÓP DOANH THU NHIỀU NHẤT (TÍNH THEO TỪNG THÁNG, VẼ BIỂU ĐỒ MIỀN\n"
   ]
  },
  {
   "cell_type": "markdown",
   "metadata": {},
   "source": [
    "### Tính lợi nhuận của từng kênh phân phối theo từng tháng\n"
   ]
  },
  {
   "cell_type": "code",
   "execution_count": null,
   "metadata": {},
   "outputs": [],
   "source": [
    "df_defined_not_canceled = df[\n",
    "    (df[\"distribution_channel\"] != \"Undefined\") & (df[\"is_canceled\"] == 0)\n",
    "]\n",
    "df_defined_not_canceled[\"month\"] = df_defined_not_canceled[\"arrival_date\"].dt.month\n",
    "\n",
    "revenue_by_month = (\n",
    "    df_defined_not_canceled.groupby([\"month\", \"distribution_channel\"])[\"revenue\"]\n",
    "    .sum()\n",
    "    .unstack()\n",
    ")\n",
    "\n",
    "revenue_by_month = revenue_by_month.fillna(0)\n",
    "\n",
    "revenue_by_month\n"
   ]
  },
  {
   "cell_type": "markdown",
   "metadata": {},
   "source": [
    "### Tính tỉ lệ phần trăm lợi nhuận của từng kênh phân phối theo từng tháng\n"
   ]
  },
  {
   "cell_type": "code",
   "execution_count": null,
   "metadata": {},
   "outputs": [],
   "source": [
    "revenue_by_month_pct = (\n",
    "    revenue_by_month.divide(revenue_by_month.sum(axis=1), axis=0) * 100\n",
    ")\n",
    "revenue_by_month_pct\n"
   ]
  },
  {
   "cell_type": "markdown",
   "metadata": {},
   "source": [
    "### Vẽ biểu đồ miền\n"
   ]
  },
  {
   "cell_type": "code",
   "execution_count": null,
   "metadata": {},
   "outputs": [],
   "source": [
    "revenue_by_month_pct.plot(\n",
    "    kind=\"area\", stacked=True, figsize=(12, 6), colormap=\"viridis\", alpha=0.7\n",
    ")\n",
    "plt.title(\"Tỉ trọng doanh thu của các kênh phân phối qua từng tháng\")\n",
    "plt.gca().yaxis.set_major_formatter(ticker.FuncFormatter(percent))\n",
    "\n",
    "plt.show()\n"
   ]
  },
  {
   "cell_type": "markdown",
   "metadata": {},
   "source": [
    "- Từ biểu đồ, ta kết luận được kênh phân phối TA/TO đóng góp phần lớn tỉ trọng vào doanh thu của khách sạn, như vậy khách sạn cần tập trung đầu tư vào kênh này để thu hút được nhiều khách hàng hơn\n"
   ]
  },
  {
   "cell_type": "markdown",
   "metadata": {},
   "source": [
    "## VI) SO SÁNH TỈ LỆ HỦY ĐƠN GIỮA KHÁCH HÀNG CÓ TIỀN SỬ HỦY ĐƠN VÀ KHÔNG CÓ\n"
   ]
  },
  {
   "cell_type": "markdown",
   "metadata": {},
   "source": [
    "### Tạo thống kê cho khách hàng có tiền sử hủy đơn và không có\n"
   ]
  },
  {
   "cell_type": "code",
   "execution_count": null,
   "metadata": {},
   "outputs": [],
   "source": [
    "df[\"did_cancel\"] = (df[\"previous_cancellations\"] > 0).astype(\"int\")\n",
    "\n",
    "num_order = df.groupby([\"is_canceled\", \"did_cancel\"]).size().unstack()\n",
    "\n",
    "num_order\n"
   ]
  },
  {
   "cell_type": "markdown",
   "metadata": {},
   "source": [
    "### Tính tỉ lệ hủy đơn giữa khách hàng có tiền sử hủy đơn và không có\n"
   ]
  },
  {
   "cell_type": "code",
   "execution_count": null,
   "metadata": {},
   "outputs": [],
   "source": [
    "num_order_t = num_order.T.copy()\n",
    "\n",
    "num_order_t[\"percent\"] = num_order_t[1] / (num_order_t[0] + num_order_t[1]) * 100\n",
    "num_order_t = num_order_t[\"percent\"]\n",
    "num_order_t\n"
   ]
  },
  {
   "cell_type": "markdown",
   "metadata": {},
   "source": [
    "### Thực hiện kiểm định:\n",
    "\n",
    "- H0: tỉ lệ hủy đơn giữa khách hàng có tiền sử hủy đơn = không có\n",
    "- H1: tỉ lệ hủy đơn giữa khách hàng có tiền sử hủy đơn > không có\n"
   ]
  },
  {
   "cell_type": "code",
   "execution_count": null,
   "metadata": {},
   "outputs": [],
   "source": [
    "def get_statistic(x, y):\n",
    "    return np.mean(x) - np.mean(y)\n",
    "\n",
    "\n",
    "list_10_did_cancel_in_past = [1] * num_order.loc[1, 1] + [0] * num_order.loc[0, 1]\n",
    "list_10_not_did_cancel_in_past = [1] * num_order.loc[1, 0] + [0] * num_order.loc[0, 0]\n",
    "\n",
    "p_value = 0\n",
    "\n",
    "for i in range(10):\n",
    "    result = stats.permutation_test(\n",
    "        (list_10_did_cancel_in_past, list_10_not_did_cancel_in_past),\n",
    "        statistic=get_statistic,\n",
    "        n_resamples=10000,\n",
    "        alternative=\"greater\",\n",
    "    ).pvalue\n",
    "\n",
    "    p_value += result\n",
    "\n",
    "p_value = p_value / 10\n",
    "p_value\n"
   ]
  },
  {
   "cell_type": "markdown",
   "metadata": {},
   "source": [
    "- Ý nghĩa: p_value nhỏ hơn alpha nên có cơ sở khằng định tỉ lệ hủy đơn giữa khách hàng có tiền sử hủy đơn lớn hơn khách hàng không có, như vậy khách sạn cần tập trung cải tiến chất lượng phục vụ của mình, xem xét những điểm yếu cần khắc phục để tránh tình trạng khách hàng có tiền sử hủy đơn trước đây vẫn tiếp tục hủy đơn, gây ảnh hưởng đến danh tiếng và doanh thu của khách sạn.\n"
   ]
  }
 ],
 "metadata": {
  "kernelspec": {
   "display_name": "min_ds-env",
   "language": "python",
   "name": "python3"
  },
  "language_info": {
   "codemirror_mode": {
    "name": "ipython",
    "version": 3
   },
   "file_extension": ".py",
   "mimetype": "text/x-python",
   "name": "python",
   "nbconvert_exporter": "python",
   "pygments_lexer": "ipython3",
   "version": "3.10.8"
  }
 },
 "nbformat": 4,
 "nbformat_minor": 2
}
